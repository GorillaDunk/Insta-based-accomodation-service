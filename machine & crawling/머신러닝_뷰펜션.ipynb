{
 "cells": [
  {
   "cell_type": "code",
   "execution_count": 1,
   "id": "a65a318b",
   "metadata": {},
   "outputs": [],
   "source": [
    "import pandas as pd\n",
    "from konlpy.tag import Kkma\n",
    "from sklearn.feature_extraction.text import TfidfVectorizer\n",
    "import numpy as np"
   ]
  },
  {
   "cell_type": "code",
   "execution_count": 2,
   "id": "e3a981e3",
   "metadata": {},
   "outputs": [],
   "source": [
    "def rmEmoji(data):\n",
    "    return data.encode('euc-kr', 'ignore').decode('euc-kr')"
   ]
  },
  {
   "cell_type": "markdown",
   "id": "a4fb4be5",
   "metadata": {},
   "source": [
    "# 한옥 데이터 전처리"
   ]
  },
  {
   "cell_type": "code",
   "execution_count": 3,
   "id": "a327d3f5",
   "metadata": {
    "scrolled": true
   },
   "outputs": [],
   "source": [
    "hanok = pd.read_csv('CSV/뷰펜션.csv')"
   ]
  },
  {
   "cell_type": "code",
   "execution_count": 4,
   "id": "0d13db6b",
   "metadata": {},
   "outputs": [],
   "source": [
    "sukso_recommendation = pd.read_csv('CSV/숙소추천.csv')\n",
    "sukso = pd.read_csv('CSV/숙소.csv')"
   ]
  },
  {
   "cell_type": "code",
   "execution_count": 5,
   "id": "aecb70f1",
   "metadata": {
    "scrolled": true
   },
   "outputs": [],
   "source": [
    "# hanok = hanok.drop('Unnamed: 0', axis = 1)"
   ]
  },
  {
   "cell_type": "markdown",
   "id": "2c08426d",
   "metadata": {},
   "source": [
    "# hanok_hash 전처리"
   ]
  },
  {
   "cell_type": "code",
   "execution_count": 6,
   "id": "0b20d9a5",
   "metadata": {},
   "outputs": [],
   "source": [
    "hanok_hash_list = [] # 비어있는 리스트 만들기 \n",
    "for txt in hanok['hashtag'] : \n",
    "    del_br = txt.strip(\"[]\")\n",
    "    del_br = del_br.replace(\"#\",\"\")\n",
    "    del_br = del_br.replace(\",\",\"\")\n",
    "    del_br = del_br.replace(\"'\",\"\")\n",
    "    \n",
    "    hanok_hash_list.append(del_br) #값 채우기"
   ]
  },
  {
   "cell_type": "code",
   "execution_count": 7,
   "id": "17e334aa",
   "metadata": {},
   "outputs": [],
   "source": [
    "hanok_hash_series = pd.Series(hanok_hash_list)"
   ]
  },
  {
   "cell_type": "code",
   "execution_count": 8,
   "id": "395bec0d",
   "metadata": {},
   "outputs": [],
   "source": [
    "hanok_tf = hanok_hash_series.str.contains(\"숙소\") == 0\n",
    "hanok_tf = hanok_hash_series.str.contains(\"숙소추천\") == 0\n",
    "hanok_hash_series = hanok_hash_series[hanok_tf]"
   ]
  },
  {
   "cell_type": "code",
   "execution_count": 9,
   "id": "57e6e1f7",
   "metadata": {},
   "outputs": [],
   "source": [
    "hanok_hash_series.reset_index(drop = True, inplace = True)"
   ]
  },
  {
   "cell_type": "markdown",
   "id": "cd42b4bc",
   "metadata": {},
   "source": [
    "# hanok_df 전처리"
   ]
  },
  {
   "cell_type": "code",
   "execution_count": 10,
   "id": "e5cb3b71",
   "metadata": {},
   "outputs": [],
   "source": [
    "hanok_df = hanok[hanok['hashtag'].str.contains(\"숙소\") ==0]\n",
    "hanok_df = hanok[hanok['hashtag'].str.contains(\"숙소추천\") ==0]"
   ]
  },
  {
   "cell_type": "code",
   "execution_count": 11,
   "id": "aff2becf",
   "metadata": {
    "scrolled": true
   },
   "outputs": [],
   "source": [
    "index_del = hanok_df[hanok_df['hashtag'] == '[]'].index\n",
    "hanok_df = hanok_df.drop(index_del)"
   ]
  },
  {
   "cell_type": "code",
   "execution_count": 12,
   "id": "236faccf",
   "metadata": {},
   "outputs": [],
   "source": [
    "hanok_df.reset_index(drop = True, inplace = True)"
   ]
  },
  {
   "cell_type": "code",
   "execution_count": 13,
   "id": "9145ed24",
   "metadata": {},
   "outputs": [],
   "source": [
    "hanok_df['hashtag'] = hanok_hash_series"
   ]
  },
  {
   "cell_type": "code",
   "execution_count": 14,
   "id": "32ee4e77",
   "metadata": {},
   "outputs": [
    {
     "name": "stderr",
     "output_type": "stream",
     "text": [
      "C:\\Users\\morni\\Anaconda3\\lib\\site-packages\\pandas\\core\\indexing.py:1637: SettingWithCopyWarning: \n",
      "A value is trying to be set on a copy of a slice from a DataFrame\n",
      "\n",
      "See the caveats in the documentation: https://pandas.pydata.org/pandas-docs/stable/user_guide/indexing.html#returning-a-view-versus-a-copy\n",
      "  self._setitem_single_block(indexer, value, name)\n"
     ]
    }
   ],
   "source": [
    "for i in range(len(hanok_df['hashtag'])):\n",
    "    if(len(hanok_df['hashtag'].iloc[i])<=2):\n",
    "        hanok_df['hashtag'].iloc[i] = rmEmoji(hanok_df['hashtag'].iloc[i])"
   ]
  },
  {
   "cell_type": "code",
   "execution_count": 15,
   "id": "b4d0144b",
   "metadata": {},
   "outputs": [],
   "source": [
    "index_del = hanok_df[hanok_df['hashtag'] == ''].index\n",
    "hanok_df = hanok_df.drop(index_del)"
   ]
  },
  {
   "cell_type": "code",
   "execution_count": 16,
   "id": "3f367f6d",
   "metadata": {},
   "outputs": [],
   "source": [
    "hanok_df.reset_index(drop = True, inplace = True)"
   ]
  },
  {
   "cell_type": "code",
   "execution_count": 17,
   "id": "a787baed",
   "metadata": {
    "scrolled": true
   },
   "outputs": [
    {
     "data": {
      "text/html": [
       "<div>\n",
       "<style scoped>\n",
       "    .dataframe tbody tr th:only-of-type {\n",
       "        vertical-align: middle;\n",
       "    }\n",
       "\n",
       "    .dataframe tbody tr th {\n",
       "        vertical-align: top;\n",
       "    }\n",
       "\n",
       "    .dataframe thead th {\n",
       "        text-align: right;\n",
       "    }\n",
       "</style>\n",
       "<table border=\"1\" class=\"dataframe\">\n",
       "  <thead>\n",
       "    <tr style=\"text-align: right;\">\n",
       "      <th></th>\n",
       "      <th>id</th>\n",
       "      <th>date</th>\n",
       "      <th>like</th>\n",
       "      <th>text</th>\n",
       "      <th>hashtag</th>\n",
       "      <th>src</th>\n",
       "      <th>target</th>\n",
       "    </tr>\n",
       "  </thead>\n",
       "  <tbody>\n",
       "    <tr>\n",
       "      <th>0</th>\n",
       "      <td>sss.__.ong</td>\n",
       "      <td>2020-11-23 00:00:00+00:00</td>\n",
       "      <td>256</td>\n",
       "      <td>굿모닝🔆 31주</td>\n",
       "      <td>트래블리맵</td>\n",
       "      <td>NaN</td>\n",
       "      <td>1</td>\n",
       "    </tr>\n",
       "    <tr>\n",
       "      <th>1</th>\n",
       "      <td>kkwak_chaeum</td>\n",
       "      <td>2020-10-18 00:00:00+00:00</td>\n",
       "      <td>50</td>\n",
       "      <td>🤍👰🏻🤵🏻🤍 예정되어있던 결혼식날에 둘이서 ...</td>\n",
       "      <td>레터링풍선 웨딩풍선 사천여행 삼첨포여행 사천펜션 사천로뎀펜션 로뎀펜션 뷰펜션 삼천포...</td>\n",
       "      <td>https://scontent-ssn1-1.cdninstagram.com/v/t51...</td>\n",
       "      <td>1</td>\n",
       "    </tr>\n",
       "    <tr>\n",
       "      <th>2</th>\n",
       "      <td>hey.ririi_</td>\n",
       "      <td>2020-10-13 00:00:00+00:00</td>\n",
       "      <td>192</td>\n",
       "      <td>(2) 바로 앞에 바닷가 있는 뷰 좋은 펜션...</td>\n",
       "      <td>지훈❤️혜리 포항여행 포항펜션 포항커플ᄑ...</td>\n",
       "      <td>https://scontent-ssn1-1.cdninstagram.com/v/t51...</td>\n",
       "      <td>1</td>\n",
       "    </tr>\n",
       "    <tr>\n",
       "      <th>3</th>\n",
       "      <td>ddggungs</td>\n",
       "      <td>2019-09-10 00:00:00+00:00</td>\n",
       "      <td>41</td>\n",
       "      <td>- - 촌놈드을🤣 수영복입고 하쟸더니 그세를 못참고ㅎㅎ - 입주할집에가능하다면 테라...</td>\n",
       "      <td>지난주말 태풍온날 링링태풍뚫고 먼저도착해서여유부리기 경남하동펜션 뷰펜션 스파펜션 인...</td>\n",
       "      <td>NaN</td>\n",
       "      <td>1</td>\n",
       "    </tr>\n",
       "    <tr>\n",
       "      <th>4</th>\n",
       "      <td>jennifer_the_pursuer</td>\n",
       "      <td>2020-12-28 00:00:00+00:00</td>\n",
       "      <td>91</td>\n",
       "      <td>ㅡthis is heaven like that. ㅡ 길냥이들이 비싼 프렌치렉을 우리...</td>\n",
       "      <td>나만알고싶은곳 엄마랑 조카랑 힐링여행 대박 스파펜션 바베큐타임 양고기 프렌치렉 뷰펜...</td>\n",
       "      <td>NaN</td>\n",
       "      <td>1</td>\n",
       "    </tr>\n",
       "    <tr>\n",
       "      <th>...</th>\n",
       "      <td>...</td>\n",
       "      <td>...</td>\n",
       "      <td>...</td>\n",
       "      <td>...</td>\n",
       "      <td>...</td>\n",
       "      <td>...</td>\n",
       "      <td>...</td>\n",
       "    </tr>\n",
       "    <tr>\n",
       "      <th>938</th>\n",
       "      <td>kjy._.yony</td>\n",
       "      <td>2016-06-06 00:00:00+00:00</td>\n",
       "      <td>32</td>\n",
       "      <td>. 너무좋다 다시오길 너무 잘했다❤ . 264주</td>\n",
       "      <td>여름휴가 방포해수욕장 뷰펜션 바베큐 물놀이 튜브 겨들랑이이프다그램 소주 린 맥주 삼...</td>\n",
       "      <td>NaN</td>\n",
       "      <td>1</td>\n",
       "    </tr>\n",
       "    <tr>\n",
       "      <th>939</th>\n",
       "      <td>heehee_ao</td>\n",
       "      <td>2015-12-04 00:00:00+00:00</td>\n",
       "      <td>28</td>\n",
       "      <td>송년회.....하다가 얼어쥭겠당😩 . 290주</td>\n",
       "      <td>삼겹살 카프리 보드카 피치 극한직업 남편 자이글 고기 굽어 저녁식사 꿀맛 뷰펜션 소풍펜션</td>\n",
       "      <td>NaN</td>\n",
       "      <td>1</td>\n",
       "    </tr>\n",
       "    <tr>\n",
       "      <th>940</th>\n",
       "      <td>ji_yeong7996</td>\n",
       "      <td>2015-09-20 00:00:00+00:00</td>\n",
       "      <td>6</td>\n",
       "      <td>간절곶 우체통 가고 싶다고 늘 얘기 했는데 이제 왔엉!! 다음엔 오늘 멍때리다 못 ...</td>\n",
       "      <td>강원도 속초 듀플렉스 뷰펜션 스파펜션 바베큐 소고기 가라비 존맛 휴가 일상</td>\n",
       "      <td>NaN</td>\n",
       "      <td>1</td>\n",
       "    </tr>\n",
       "    <tr>\n",
       "      <th>941</th>\n",
       "      <td>k___k___s</td>\n",
       "      <td>2015-09-19 00:00:00+00:00</td>\n",
       "      <td>49</td>\n",
       "      <td>지금처럼..☺️ 301주</td>\n",
       "      <td>두번째가족여행 배부름 즐거움 해피해피함 아이코내무릎 두상구봉이도함께 태안 뷰펜션 1...</td>\n",
       "      <td>NaN</td>\n",
       "      <td>1</td>\n",
       "    </tr>\n",
       "    <tr>\n",
       "      <th>942</th>\n",
       "      <td>_jijang</td>\n",
       "      <td>2015-08-16 00:00:00+00:00</td>\n",
       "      <td>15</td>\n",
       "      <td>306주</td>\n",
       "      <td>여름 휴가 역시 바베큐 소고기 소세지 여채 양송이 파프리카 새송이 비빔면 삼겹살 으...</td>\n",
       "      <td>NaN</td>\n",
       "      <td>1</td>\n",
       "    </tr>\n",
       "  </tbody>\n",
       "</table>\n",
       "<p>943 rows × 7 columns</p>\n",
       "</div>"
      ],
      "text/plain": [
       "                       id                       date like  \\\n",
       "0              sss.__.ong  2020-11-23 00:00:00+00:00  256   \n",
       "1            kkwak_chaeum  2020-10-18 00:00:00+00:00   50   \n",
       "2              hey.ririi_  2020-10-13 00:00:00+00:00  192   \n",
       "3                ddggungs  2019-09-10 00:00:00+00:00   41   \n",
       "4    jennifer_the_pursuer  2020-12-28 00:00:00+00:00   91   \n",
       "..                    ...                        ...  ...   \n",
       "938            kjy._.yony  2016-06-06 00:00:00+00:00   32   \n",
       "939             heehee_ao  2015-12-04 00:00:00+00:00   28   \n",
       "940          ji_yeong7996  2015-09-20 00:00:00+00:00    6   \n",
       "941             k___k___s  2015-09-19 00:00:00+00:00   49   \n",
       "942               _jijang  2015-08-16 00:00:00+00:00   15   \n",
       "\n",
       "                                                  text  \\\n",
       "0                                             굿모닝🔆 31주   \n",
       "1    🤍👰🏻🤵🏻🤍 예정되어있던 결혼식날에 둘이서 ...   \n",
       "2    (2) 바로 앞에 바닷가 있는 뷰 좋은 펜션...   \n",
       "3    - - 촌놈드을🤣 수영복입고 하쟸더니 그세를 못참고ㅎㅎ - 입주할집에가능하다면 테라...   \n",
       "4    ㅡthis is heaven like that. ㅡ 길냥이들이 비싼 프렌치렉을 우리...   \n",
       "..                                                 ...   \n",
       "938                         . 너무좋다 다시오길 너무 잘했다❤ . 264주   \n",
       "939                          송년회.....하다가 얼어쥭겠당😩 . 290주   \n",
       "940  간절곶 우체통 가고 싶다고 늘 얘기 했는데 이제 왔엉!! 다음엔 오늘 멍때리다 못 ...   \n",
       "941                                      지금처럼..☺️ 301주   \n",
       "942                                               306주   \n",
       "\n",
       "                                               hashtag  \\\n",
       "0                                                트래블리맵   \n",
       "1    레터링풍선 웨딩풍선 사천여행 삼첨포여행 사천펜션 사천로뎀펜션 로뎀펜션 뷰펜션 삼천포...   \n",
       "2    지훈❤️혜리 포항여행 포항펜션 포항커플ᄑ...   \n",
       "3    지난주말 태풍온날 링링태풍뚫고 먼저도착해서여유부리기 경남하동펜션 뷰펜션 스파펜션 인...   \n",
       "4    나만알고싶은곳 엄마랑 조카랑 힐링여행 대박 스파펜션 바베큐타임 양고기 프렌치렉 뷰펜...   \n",
       "..                                                 ...   \n",
       "938  여름휴가 방포해수욕장 뷰펜션 바베큐 물놀이 튜브 겨들랑이이프다그램 소주 린 맥주 삼...   \n",
       "939  삼겹살 카프리 보드카 피치 극한직업 남편 자이글 고기 굽어 저녁식사 꿀맛 뷰펜션 소풍펜션   \n",
       "940          강원도 속초 듀플렉스 뷰펜션 스파펜션 바베큐 소고기 가라비 존맛 휴가 일상   \n",
       "941  두번째가족여행 배부름 즐거움 해피해피함 아이코내무릎 두상구봉이도함께 태안 뷰펜션 1...   \n",
       "942  여름 휴가 역시 바베큐 소고기 소세지 여채 양송이 파프리카 새송이 비빔면 삼겹살 으...   \n",
       "\n",
       "                                                   src  target  \n",
       "0                                                  NaN       1  \n",
       "1    https://scontent-ssn1-1.cdninstagram.com/v/t51...       1  \n",
       "2    https://scontent-ssn1-1.cdninstagram.com/v/t51...       1  \n",
       "3                                                  NaN       1  \n",
       "4                                                  NaN       1  \n",
       "..                                                 ...     ...  \n",
       "938                                                NaN       1  \n",
       "939                                                NaN       1  \n",
       "940                                                NaN       1  \n",
       "941                                                NaN       1  \n",
       "942                                                NaN       1  \n",
       "\n",
       "[943 rows x 7 columns]"
      ]
     },
     "execution_count": 17,
     "metadata": {},
     "output_type": "execute_result"
    }
   ],
   "source": [
    "hanok_df"
   ]
  },
  {
   "cell_type": "markdown",
   "id": "91fe7fca",
   "metadata": {},
   "source": [
    "# sukso + sukso_reco : MERGE"
   ]
  },
  {
   "cell_type": "code",
   "execution_count": 18,
   "id": "6cb9283b",
   "metadata": {},
   "outputs": [],
   "source": [
    "# sukso_recommendation = pd.read_csv('숙소추천.csv')\n",
    "# sukso = pd.read_csv('숙소.csv')"
   ]
  },
  {
   "cell_type": "code",
   "execution_count": 19,
   "id": "87cfeb1f",
   "metadata": {},
   "outputs": [],
   "source": [
    "sukso = sukso[sukso['hashtag'].str.contains('숙소추천')==0]"
   ]
  },
  {
   "cell_type": "code",
   "execution_count": 20,
   "id": "5d44d8cd",
   "metadata": {},
   "outputs": [],
   "source": [
    "sukso_merge = pd.concat([sukso_recommendation,sukso] , axis= 0)"
   ]
  },
  {
   "cell_type": "code",
   "execution_count": 21,
   "id": "777d92b6",
   "metadata": {},
   "outputs": [],
   "source": [
    "index_del2 = sukso_merge[sukso_merge['hashtag'] == '[]'].index\n",
    "sukso_merge = sukso_merge.drop(index_del2)"
   ]
  },
  {
   "cell_type": "code",
   "execution_count": 22,
   "id": "eb576d86",
   "metadata": {},
   "outputs": [],
   "source": [
    "sukso_merge_list = [] # 비어있는 리스트 만들기 \n",
    "for txt in sukso_merge['hashtag'] : \n",
    "    del_br = txt.strip(\"[]\")\n",
    "    del_br = del_br.replace(\"#\",\" \")\n",
    "    del_br = del_br.replace(\",\",\"\")\n",
    "    del_br = del_br.replace(\"'\",\"\")\n",
    "    sukso_merge_list.append(del_br) #값 채우기"
   ]
  },
  {
   "cell_type": "code",
   "execution_count": 23,
   "id": "76d0c498",
   "metadata": {},
   "outputs": [],
   "source": [
    "sukso_merge_series = pd.Series(sukso_merge_list)"
   ]
  },
  {
   "cell_type": "code",
   "execution_count": 24,
   "id": "9d25d0e8",
   "metadata": {},
   "outputs": [],
   "source": [
    "sukso_merge_series= sukso_merge_series.str.contains(\"뷰펜션\") ==0\n",
    "sukso_merge_series= sukso_merge_series[sukso_merge_series] "
   ]
  },
  {
   "cell_type": "code",
   "execution_count": 25,
   "id": "735915d7",
   "metadata": {},
   "outputs": [],
   "source": [
    "sukso_merge.reset_index(drop = True, inplace = True)"
   ]
  },
  {
   "cell_type": "code",
   "execution_count": 26,
   "id": "14524f4a",
   "metadata": {},
   "outputs": [],
   "source": [
    "sukso_merge['hashtag'] =sukso_merge_list"
   ]
  },
  {
   "cell_type": "code",
   "execution_count": 27,
   "id": "65180ef7",
   "metadata": {},
   "outputs": [
    {
     "name": "stderr",
     "output_type": "stream",
     "text": [
      "C:\\Users\\morni\\Anaconda3\\lib\\site-packages\\pandas\\core\\indexing.py:1637: SettingWithCopyWarning: \n",
      "A value is trying to be set on a copy of a slice from a DataFrame\n",
      "\n",
      "See the caveats in the documentation: https://pandas.pydata.org/pandas-docs/stable/user_guide/indexing.html#returning-a-view-versus-a-copy\n",
      "  self._setitem_single_block(indexer, value, name)\n"
     ]
    }
   ],
   "source": [
    "for i in range(len(sukso_merge['hashtag'])):\n",
    "    if(len(sukso_merge['hashtag'].iloc[i])<=2):\n",
    "        sukso_merge['hashtag'].iloc[i] = rmEmoji(sukso_merge['hashtag'].iloc[i])"
   ]
  },
  {
   "cell_type": "code",
   "execution_count": 28,
   "id": "25c89523",
   "metadata": {},
   "outputs": [],
   "source": [
    "index_del = sukso_merge[sukso_merge['hashtag'] == ''].index\n",
    "sukso_merge = sukso_merge.drop(index_del)"
   ]
  },
  {
   "cell_type": "code",
   "execution_count": 29,
   "id": "0af4f2a8",
   "metadata": {},
   "outputs": [],
   "source": [
    "sukso_merge.reset_index(drop = True, inplace = True)"
   ]
  },
  {
   "cell_type": "code",
   "execution_count": 30,
   "id": "72c122b7",
   "metadata": {
    "scrolled": true
   },
   "outputs": [
    {
     "data": {
      "text/html": [
       "<div>\n",
       "<style scoped>\n",
       "    .dataframe tbody tr th:only-of-type {\n",
       "        vertical-align: middle;\n",
       "    }\n",
       "\n",
       "    .dataframe tbody tr th {\n",
       "        vertical-align: top;\n",
       "    }\n",
       "\n",
       "    .dataframe thead th {\n",
       "        text-align: right;\n",
       "    }\n",
       "</style>\n",
       "<table border=\"1\" class=\"dataframe\">\n",
       "  <thead>\n",
       "    <tr style=\"text-align: right;\">\n",
       "      <th></th>\n",
       "      <th>id</th>\n",
       "      <th>date</th>\n",
       "      <th>like</th>\n",
       "      <th>text</th>\n",
       "      <th>hashtag</th>\n",
       "      <th>src</th>\n",
       "      <th>target</th>\n",
       "    </tr>\n",
       "  </thead>\n",
       "  <tbody>\n",
       "    <tr>\n",
       "      <th>0</th>\n",
       "      <td>busansomang</td>\n",
       "      <td>2021-06-21 00:00:00+00:00</td>\n",
       "      <td>2,086</td>\n",
       "      <td>감성숙소 모음리스트✈️ 갬성, 힐링 모든 면에서 대박인 제쥬도 존예 숙소 다 모아와...</td>\n",
       "      <td>제주  제주  제주도  숙소  제주숙소  숙소추천  제주숙소추천  제주여행  제주...</td>\n",
       "      <td>https://scontent-ssn1-1.cdninstagram.com/v/t51...</td>\n",
       "      <td>0</td>\n",
       "    </tr>\n",
       "    <tr>\n",
       "      <th>1</th>\n",
       "      <td>zzazang_</td>\n",
       "      <td>2021-06-26 00:00:00+00:00</td>\n",
       "      <td>3,385</td>\n",
       "      <td>이거 하나보고 예약했던 숙소 🪨🪵🐷🥩🥬🍹💖 . . . 2일</td>\n",
       "      <td>제주여행  제주도여행  제주도  제주  제주숙소  제주숙소추천  제주독채  제주독...</td>\n",
       "      <td>https://scontent-ssn1-1.cdninstagram.com/v/t51...</td>\n",
       "      <td>0</td>\n",
       "    </tr>\n",
       "    <tr>\n",
       "      <th>2</th>\n",
       "      <td>ejiyang</td>\n",
       "      <td>2021-06-09 00:00:00+00:00</td>\n",
       "      <td>1,785</td>\n",
       "      <td>문의주신 숙소 공유해드려요♥️ 서귀포에 위치한 이에요🌼 이번 제주는 서귀포쪽에 머물...</td>\n",
       "      <td>부영호텔</td>\n",
       "      <td>https://scontent-ssn1-1.cdninstagram.com/v/t51...</td>\n",
       "      <td>0</td>\n",
       "    </tr>\n",
       "    <tr>\n",
       "      <th>3</th>\n",
       "      <td>so__hyeon</td>\n",
       "      <td>2021-06-26 00:00:00+00:00</td>\n",
       "      <td>14,145</td>\n",
       "      <td>여기 진짜 미쳤다. 너무너무 좋다는 말 밖에🏕🍃 우리 사이트 바로 앞으로 바람 솔솔...</td>\n",
       "      <td>캠핑  캠핑장추천  캠핑장  캠핑스타...</td>\n",
       "      <td>https://scontent-ssn1-1.cdninstagram.com/v/t51...</td>\n",
       "      <td>0</td>\n",
       "    </tr>\n",
       "    <tr>\n",
       "      <th>4</th>\n",
       "      <td>stayfolio\\n인증됨</td>\n",
       "      <td>2021-06-24 00:00:00+00:00</td>\n",
       "      <td>1,892</td>\n",
       "      <td>인증됨 작고(釐毫) 소박한 즐거움(小樂)을 더하다, 화려하게 꾸며진 공간은 많다. ...</td>\n",
       "      <td>이호소락  스테이폴리오  스테이폴리오_서울  북촌  노천탕</td>\n",
       "      <td>https://scontent-ssn1-1.cdninstagram.com/v/t51...</td>\n",
       "      <td>0</td>\n",
       "    </tr>\n",
       "    <tr>\n",
       "      <th>...</th>\n",
       "      <td>...</td>\n",
       "      <td>...</td>\n",
       "      <td>...</td>\n",
       "      <td>...</td>\n",
       "      <td>...</td>\n",
       "      <td>...</td>\n",
       "      <td>...</td>\n",
       "    </tr>\n",
       "    <tr>\n",
       "      <th>7122</th>\n",
       "      <td>mhc022012</td>\n",
       "      <td>2021-03-30 00:00:00+00:00</td>\n",
       "      <td>영상</td>\n",
       "      <td>Happy pottery studio Jeju 행복공방 에치비 도자기체험 제주 Ma...</td>\n",
       "      <td>체험  가볼만한곳  제주  서귀포  도자기  도예  귤  감귤  중문  숙소  카...</td>\n",
       "      <td>NaN</td>\n",
       "      <td>0</td>\n",
       "    </tr>\n",
       "    <tr>\n",
       "      <th>7123</th>\n",
       "      <td>seo_yeong_star</td>\n",
       "      <td>2021-03-30 00:00:00+00:00</td>\n",
       "      <td>246</td>\n",
       "      <td>방문자리뷰에 올려주신 후기 사진이예요 파란하늘과 마루방을 너무 이쁘게 담아주셔서 가...</td>\n",
       "      <td>누마루  파란하늘  방문자리뷰  스테이황룡  한옥스타그램  한옥스테이  한옥게스트...</td>\n",
       "      <td>https://scontent-ssn1-1.cdninstagram.com/v/t51...</td>\n",
       "      <td>0</td>\n",
       "    </tr>\n",
       "    <tr>\n",
       "      <th>7124</th>\n",
       "      <td>___ju1004</td>\n",
       "      <td>2021-03-30 00:00:00+00:00</td>\n",
       "      <td>24</td>\n",
       "      <td>제주도에서의 하루^^ 제주도도 황사가 장난아님...;;; . . . 13주</td>\n",
       "      <td>정방폭포  제주도  황사  신행  신혼여행  숙소</td>\n",
       "      <td>https://scontent-ssn1-1.cdninstagram.com/v/t51...</td>\n",
       "      <td>0</td>\n",
       "    </tr>\n",
       "    <tr>\n",
       "      <th>7125</th>\n",
       "      <td>hyejini_vv</td>\n",
       "      <td>2021-03-30 00:00:00+00:00</td>\n",
       "      <td>20</td>\n",
       "      <td>제주 여행 여덟번째기록📝 노잼여행을 유잼여행으로 만들어주신 @youngmi__s2 ...</td>\n",
       "      <td>마지막  기록  제주  여행  뚜벅이  혼여행  마지막피드  즐거웠다  날씨는  ...</td>\n",
       "      <td>https://scontent-ssn1-1.cdninstagram.com/v/t51...</td>\n",
       "      <td>0</td>\n",
       "    </tr>\n",
       "    <tr>\n",
       "      <th>7126</th>\n",
       "      <td>ho_y.e.rin_</td>\n",
       "      <td>2021-03-30 00:00:00+00:00</td>\n",
       "      <td>63</td>\n",
       "      <td>일어나서 밥 먹는둥🌸 . . . 13주</td>\n",
       "      <td>먹방스타그램  양평  숙소  아침메뉴</td>\n",
       "      <td>https://scontent-ssn1-1.cdninstagram.com/v/t51...</td>\n",
       "      <td>0</td>\n",
       "    </tr>\n",
       "  </tbody>\n",
       "</table>\n",
       "<p>7127 rows × 7 columns</p>\n",
       "</div>"
      ],
      "text/plain": [
       "                  id                       date    like  \\\n",
       "0        busansomang  2021-06-21 00:00:00+00:00   2,086   \n",
       "1           zzazang_  2021-06-26 00:00:00+00:00   3,385   \n",
       "2            ejiyang  2021-06-09 00:00:00+00:00   1,785   \n",
       "3          so__hyeon  2021-06-26 00:00:00+00:00  14,145   \n",
       "4     stayfolio\\n인증됨  2021-06-24 00:00:00+00:00   1,892   \n",
       "...              ...                        ...     ...   \n",
       "7122       mhc022012  2021-03-30 00:00:00+00:00      영상   \n",
       "7123  seo_yeong_star  2021-03-30 00:00:00+00:00     246   \n",
       "7124       ___ju1004  2021-03-30 00:00:00+00:00      24   \n",
       "7125      hyejini_vv  2021-03-30 00:00:00+00:00      20   \n",
       "7126     ho_y.e.rin_  2021-03-30 00:00:00+00:00      63   \n",
       "\n",
       "                                                   text  \\\n",
       "0     감성숙소 모음리스트✈️ 갬성, 힐링 모든 면에서 대박인 제쥬도 존예 숙소 다 모아와...   \n",
       "1                      이거 하나보고 예약했던 숙소 🪨🪵🐷🥩🥬🍹💖 . . . 2일   \n",
       "2     문의주신 숙소 공유해드려요♥️ 서귀포에 위치한 이에요🌼 이번 제주는 서귀포쪽에 머물...   \n",
       "3     여기 진짜 미쳤다. 너무너무 좋다는 말 밖에🏕🍃 우리 사이트 바로 앞으로 바람 솔솔...   \n",
       "4     인증됨 작고(釐毫) 소박한 즐거움(小樂)을 더하다, 화려하게 꾸며진 공간은 많다. ...   \n",
       "...                                                 ...   \n",
       "7122  Happy pottery studio Jeju 행복공방 에치비 도자기체험 제주 Ma...   \n",
       "7123  방문자리뷰에 올려주신 후기 사진이예요 파란하늘과 마루방을 너무 이쁘게 담아주셔서 가...   \n",
       "7124          제주도에서의 하루^^ 제주도도 황사가 장난아님...;;; . . . 13주   \n",
       "7125  제주 여행 여덟번째기록📝 노잼여행을 유잼여행으로 만들어주신 @youngmi__s2 ...   \n",
       "7126                              일어나서 밥 먹는둥🌸 . . . 13주   \n",
       "\n",
       "                                                hashtag  \\\n",
       "0      제주  제주  제주도  숙소  제주숙소  숙소추천  제주숙소추천  제주여행  제주...   \n",
       "1      제주여행  제주도여행  제주도  제주  제주숙소  제주숙소추천  제주독채  제주독...   \n",
       "2                                                  부영호텔   \n",
       "3      캠핑  캠핑장추천  캠핑장  캠핑스타...   \n",
       "4                      이호소락  스테이폴리오  스테이폴리오_서울  북촌  노천탕   \n",
       "...                                                 ...   \n",
       "7122   체험  가볼만한곳  제주  서귀포  도자기  도예  귤  감귤  중문  숙소  카...   \n",
       "7123   누마루  파란하늘  방문자리뷰  스테이황룡  한옥스타그램  한옥스테이  한옥게스트...   \n",
       "7124                        정방폭포  제주도  황사  신행  신혼여행  숙소   \n",
       "7125   마지막  기록  제주  여행  뚜벅이  혼여행  마지막피드  즐거웠다  날씨는  ...   \n",
       "7126                               먹방스타그램  양평  숙소  아침메뉴   \n",
       "\n",
       "                                                    src  target  \n",
       "0     https://scontent-ssn1-1.cdninstagram.com/v/t51...       0  \n",
       "1     https://scontent-ssn1-1.cdninstagram.com/v/t51...       0  \n",
       "2     https://scontent-ssn1-1.cdninstagram.com/v/t51...       0  \n",
       "3     https://scontent-ssn1-1.cdninstagram.com/v/t51...       0  \n",
       "4     https://scontent-ssn1-1.cdninstagram.com/v/t51...       0  \n",
       "...                                                 ...     ...  \n",
       "7122                                                NaN       0  \n",
       "7123  https://scontent-ssn1-1.cdninstagram.com/v/t51...       0  \n",
       "7124  https://scontent-ssn1-1.cdninstagram.com/v/t51...       0  \n",
       "7125  https://scontent-ssn1-1.cdninstagram.com/v/t51...       0  \n",
       "7126  https://scontent-ssn1-1.cdninstagram.com/v/t51...       0  \n",
       "\n",
       "[7127 rows x 7 columns]"
      ]
     },
     "execution_count": 30,
     "metadata": {},
     "output_type": "execute_result"
    }
   ],
   "source": [
    "sukso_merge"
   ]
  },
  {
   "cell_type": "markdown",
   "id": "0caf727b",
   "metadata": {},
   "source": [
    "# 머신러닝 학습"
   ]
  },
  {
   "cell_type": "code",
   "execution_count": 31,
   "id": "0217cbfb",
   "metadata": {},
   "outputs": [],
   "source": [
    "sukso_merge_data= sukso_merge.iloc[:, [4,6]]\n",
    "hanok_data = hanok_df.iloc[:, [4,6]]"
   ]
  },
  {
   "cell_type": "code",
   "execution_count": 32,
   "id": "32f641ce",
   "metadata": {},
   "outputs": [],
   "source": [
    "hanok_plus_sukso_merge = pd.concat([hanok_data,sukso_merge_data], axis = 0)"
   ]
  },
  {
   "cell_type": "code",
   "execution_count": 33,
   "id": "bd6268bd",
   "metadata": {},
   "outputs": [],
   "source": [
    "hanok_plus_sukso_merge_X = hanok_plus_sukso_merge.iloc[:, 0]\n",
    "hanok_plus_sukso_merge_y = hanok_plus_sukso_merge.iloc[:, 1]"
   ]
  },
  {
   "cell_type": "code",
   "execution_count": 34,
   "id": "a3832a51",
   "metadata": {},
   "outputs": [],
   "source": [
    "from sklearn.model_selection import train_test_split"
   ]
  },
  {
   "cell_type": "code",
   "execution_count": 35,
   "id": "5ead377a",
   "metadata": {},
   "outputs": [],
   "source": [
    "X_train, X_test, y_train, y_test = train_test_split(hanok_plus_sukso_merge_X, # 문제데이터\n",
    "                                                    hanok_plus_sukso_merge_y,  #정답데이터\n",
    "                                                   random_state = 3,  # 섞는 방법\n",
    "                                                   test_size =0.3)"
   ]
  },
  {
   "cell_type": "code",
   "execution_count": 36,
   "id": "ef5204f8",
   "metadata": {},
   "outputs": [],
   "source": [
    "from sklearn.feature_extraction.text import CountVectorizer\n",
    "testCV = CountVectorizer()"
   ]
  },
  {
   "cell_type": "code",
   "execution_count": 37,
   "id": "6c237af5",
   "metadata": {},
   "outputs": [
    {
     "data": {
      "text/plain": [
       "CountVectorizer()"
      ]
     },
     "execution_count": 37,
     "metadata": {},
     "output_type": "execute_result"
    }
   ],
   "source": [
    "testCV.fit(X_train, y_train)"
   ]
  },
  {
   "cell_type": "code",
   "execution_count": 38,
   "id": "32d62bdf",
   "metadata": {},
   "outputs": [],
   "source": [
    "X_train_CV = testCV.transform(X_train)\n",
    "X_test_CV = testCV.transform(X_test)"
   ]
  },
  {
   "cell_type": "code",
   "execution_count": 39,
   "id": "a33dc5fd",
   "metadata": {},
   "outputs": [],
   "source": [
    "from sklearn.svm import LinearSVC\n",
    "from sklearn.model_selection import cross_val_score\n",
    "svm = LinearSVC()"
   ]
  },
  {
   "cell_type": "code",
   "execution_count": 40,
   "id": "ad3fb266",
   "metadata": {},
   "outputs": [
    {
     "data": {
      "text/plain": [
       "0.9952204550977057"
      ]
     },
     "execution_count": 40,
     "metadata": {},
     "output_type": "execute_result"
    }
   ],
   "source": [
    "svm_result = cross_val_score(svm, X_train_CV, y_train, cv=5)\n",
    "svm_result.mean()"
   ]
  },
  {
   "cell_type": "code",
   "execution_count": 41,
   "id": "4aa0cf78",
   "metadata": {},
   "outputs": [
    {
     "data": {
      "text/plain": [
       "LinearSVC()"
      ]
     },
     "execution_count": 41,
     "metadata": {},
     "output_type": "execute_result"
    }
   ],
   "source": [
    "svm.fit(X_train_CV,y_train)"
   ]
  },
  {
   "cell_type": "markdown",
   "id": "ce96c0a1",
   "metadata": {},
   "source": [
    "# 숙소_숙소추천에서 특정 카테고리 분류하기"
   ]
  },
  {
   "cell_type": "code",
   "execution_count": 42,
   "id": "d0d76a08",
   "metadata": {},
   "outputs": [],
   "source": [
    "sukso_recommendation = pd.read_csv('숙소추천.csv')\n",
    "sukso = pd.read_csv('숙소.csv')"
   ]
  },
  {
   "cell_type": "code",
   "execution_count": 43,
   "id": "49a1e643",
   "metadata": {},
   "outputs": [],
   "source": [
    "sukso = sukso[sukso['hashtag'].str.contains('숙소추천')==0]"
   ]
  },
  {
   "cell_type": "code",
   "execution_count": 44,
   "id": "421e9301",
   "metadata": {},
   "outputs": [],
   "source": [
    "sukso_merge = pd.concat([sukso_recommendation,sukso] , axis= 0)"
   ]
  },
  {
   "cell_type": "code",
   "execution_count": 45,
   "id": "82f49499",
   "metadata": {},
   "outputs": [],
   "source": [
    "index_del2 = sukso_merge[sukso_merge['hashtag'] == '[]'].index\n",
    "sukso_merge = sukso_merge.drop(index_del2)"
   ]
  },
  {
   "cell_type": "code",
   "execution_count": 46,
   "id": "2237aa2e",
   "metadata": {},
   "outputs": [],
   "source": [
    "sukso_merge_list = [] # 비어있는 리스트 만들기 \n",
    "for txt in sukso_merge['hashtag'] : \n",
    "    del_br = txt.strip(\"[]\")\n",
    "    del_br = del_br.replace(\"#\",\" \")\n",
    "    del_br = del_br.replace(\",\",\"\")\n",
    "    del_br = del_br.replace(\"'\",\"\")\n",
    "    sukso_merge_list.append(del_br) #값 채우기"
   ]
  },
  {
   "cell_type": "code",
   "execution_count": 47,
   "id": "47af66d2",
   "metadata": {},
   "outputs": [],
   "source": [
    "sukso_merge_series = pd.Series(sukso_merge_list)"
   ]
  },
  {
   "cell_type": "code",
   "execution_count": 48,
   "id": "2b9dfc4d",
   "metadata": {},
   "outputs": [],
   "source": [
    "sukso_merge.reset_index(drop = True, inplace = True)"
   ]
  },
  {
   "cell_type": "code",
   "execution_count": 49,
   "id": "0993fd85",
   "metadata": {},
   "outputs": [],
   "source": [
    "sukso_merge['hashtag'] =sukso_merge_list"
   ]
  },
  {
   "cell_type": "code",
   "execution_count": 50,
   "id": "34042f27",
   "metadata": {},
   "outputs": [],
   "source": [
    "X_train_CV = testCV.transform(sukso_merge.iloc[:, 4])"
   ]
  },
  {
   "cell_type": "code",
   "execution_count": 51,
   "id": "794bbf4b",
   "metadata": {},
   "outputs": [],
   "source": [
    "predict_array = svm.predict(X_train_CV)"
   ]
  },
  {
   "cell_type": "code",
   "execution_count": 52,
   "id": "0cb20f1f",
   "metadata": {},
   "outputs": [],
   "source": [
    "one_numpy = np.where(predict_array==1)"
   ]
  },
  {
   "cell_type": "code",
   "execution_count": 53,
   "id": "44018154",
   "metadata": {
    "scrolled": true
   },
   "outputs": [
    {
     "data": {
      "text/plain": [
       "(array([1023], dtype=int64),)"
      ]
     },
     "execution_count": 53,
     "metadata": {},
     "output_type": "execute_result"
    }
   ],
   "source": [
    "one_numpy"
   ]
  },
  {
   "cell_type": "code",
   "execution_count": 54,
   "id": "4d05b412",
   "metadata": {},
   "outputs": [],
   "source": [
    "one_list = list(one_numpy)"
   ]
  },
  {
   "cell_type": "code",
   "execution_count": 55,
   "id": "b649d061",
   "metadata": {},
   "outputs": [],
   "source": [
    "one_series = pd.Series(one_list)"
   ]
  },
  {
   "cell_type": "code",
   "execution_count": 56,
   "id": "2f1c10c5",
   "metadata": {},
   "outputs": [],
   "source": [
    "one_list = one_list[0].tolist()"
   ]
  },
  {
   "cell_type": "code",
   "execution_count": 57,
   "id": "b7d64483",
   "metadata": {},
   "outputs": [],
   "source": [
    "predict_df = sukso_merge.iloc[(one_list)]"
   ]
  },
  {
   "cell_type": "code",
   "execution_count": 58,
   "id": "3509b6f8",
   "metadata": {},
   "outputs": [],
   "source": [
    "index_del = predict_df[predict_df['like'] == '영상'].index\n",
    "predict_df = predict_df.drop(index_del)"
   ]
  },
  {
   "cell_type": "code",
   "execution_count": 59,
   "id": "08b0de70",
   "metadata": {},
   "outputs": [
    {
     "data": {
      "text/plain": [
       "Index(['id', 'date', 'like', 'text', 'hashtag', 'src', 'target'], dtype='object')"
      ]
     },
     "execution_count": 59,
     "metadata": {},
     "output_type": "execute_result"
    }
   ],
   "source": [
    "predict_df.keys()"
   ]
  },
  {
   "cell_type": "code",
   "execution_count": 60,
   "id": "151d7961",
   "metadata": {
    "scrolled": true
   },
   "outputs": [],
   "source": [
    "predict_df.reset_index(drop = True, inplace = True)"
   ]
  },
  {
   "cell_type": "code",
   "execution_count": 61,
   "id": "7a521851",
   "metadata": {},
   "outputs": [
    {
     "name": "stderr",
     "output_type": "stream",
     "text": [
      "C:\\Users\\morni\\Anaconda3\\lib\\site-packages\\pandas\\core\\indexing.py:1637: SettingWithCopyWarning: \n",
      "A value is trying to be set on a copy of a slice from a DataFrame\n",
      "\n",
      "See the caveats in the documentation: https://pandas.pydata.org/pandas-docs/stable/user_guide/indexing.html#returning-a-view-versus-a-copy\n",
      "  self._setitem_single_block(indexer, value, name)\n"
     ]
    }
   ],
   "source": [
    "for i in range(len(predict_df)):\n",
    "    predict_df['like'].iloc[i] = predict_df['like'].iloc[i].replace(\",\",\"\")\n",
    "    predict_df['like'].iloc[i] = int(predict_df['like'].iloc[i])"
   ]
  },
  {
   "cell_type": "code",
   "execution_count": 62,
   "id": "8e7b9604",
   "metadata": {},
   "outputs": [],
   "source": [
    "predict_df = predict_df.sort_values(by = ['like'], axis = 0, ascending = False)"
   ]
  },
  {
   "cell_type": "code",
   "execution_count": 66,
   "id": "f80b0792",
   "metadata": {},
   "outputs": [
    {
     "data": {
      "text/html": [
       "<div>\n",
       "<style scoped>\n",
       "    .dataframe tbody tr th:only-of-type {\n",
       "        vertical-align: middle;\n",
       "    }\n",
       "\n",
       "    .dataframe tbody tr th {\n",
       "        vertical-align: top;\n",
       "    }\n",
       "\n",
       "    .dataframe thead th {\n",
       "        text-align: right;\n",
       "    }\n",
       "</style>\n",
       "<table border=\"1\" class=\"dataframe\">\n",
       "  <thead>\n",
       "    <tr style=\"text-align: right;\">\n",
       "      <th></th>\n",
       "      <th>id</th>\n",
       "      <th>date</th>\n",
       "      <th>like</th>\n",
       "      <th>text</th>\n",
       "      <th>hashtag</th>\n",
       "      <th>src</th>\n",
       "      <th>target</th>\n",
       "    </tr>\n",
       "  </thead>\n",
       "  <tbody>\n",
       "    <tr>\n",
       "      <th>0</th>\n",
       "      <td>forestpension1</td>\n",
       "      <td>2021-06-08 00:00:00+00:00</td>\n",
       "      <td>15</td>\n",
       "      <td>숲속향기펜션 2층 공간 사진이예요🙂 테라스도 있어서 뷰가 아주 좋은곳랍니다 ㅎㅎ🌳 ...</td>\n",
       "      <td>강원도여행  강원도숙소  강원도펜션  펜션예약  양양군  강원도양양  강원도양양여...</td>\n",
       "      <td>https://scontent-ssn1-1.cdninstagram.com/v/t51...</td>\n",
       "      <td>0</td>\n",
       "    </tr>\n",
       "  </tbody>\n",
       "</table>\n",
       "</div>"
      ],
      "text/plain": [
       "               id                       date like  \\\n",
       "0  forestpension1  2021-06-08 00:00:00+00:00   15   \n",
       "\n",
       "                                                text  \\\n",
       "0  숲속향기펜션 2층 공간 사진이예요🙂 테라스도 있어서 뷰가 아주 좋은곳랍니다 ㅎㅎ🌳 ...   \n",
       "\n",
       "                                             hashtag  \\\n",
       "0   강원도여행  강원도숙소  강원도펜션  펜션예약  양양군  강원도양양  강원도양양여...   \n",
       "\n",
       "                                                 src  target  \n",
       "0  https://scontent-ssn1-1.cdninstagram.com/v/t51...       0  "
      ]
     },
     "execution_count": 66,
     "metadata": {},
     "output_type": "execute_result"
    }
   ],
   "source": [
    "predict_df"
   ]
  },
  {
   "cell_type": "code",
   "execution_count": 64,
   "id": "de474262",
   "metadata": {},
   "outputs": [],
   "source": [
    "predict_df.to_csv(\"뷰펜션_정답목록.csv\", encoding=\"utf-8-sig\")"
   ]
  },
  {
   "cell_type": "code",
   "execution_count": 65,
   "id": "ba8896c7",
   "metadata": {},
   "outputs": [
    {
     "name": "stdout",
     "output_type": "stream",
     "text": [
      "학습시킨 데이터의 양 :  1050\n"
     ]
    }
   ],
   "source": [
    "print(\"학습시킨 데이터의 양 : \", len(hanok))"
   ]
  },
  {
   "cell_type": "code",
   "execution_count": null,
   "id": "eefd0bd0",
   "metadata": {},
   "outputs": [],
   "source": []
  }
 ],
 "metadata": {
  "kernelspec": {
   "display_name": "Python 3",
   "language": "python",
   "name": "python3"
  },
  "language_info": {
   "codemirror_mode": {
    "name": "ipython",
    "version": 3
   },
   "file_extension": ".py",
   "mimetype": "text/x-python",
   "name": "python",
   "nbconvert_exporter": "python",
   "pygments_lexer": "ipython3",
   "version": "3.8.8"
  }
 },
 "nbformat": 4,
 "nbformat_minor": 5
}
