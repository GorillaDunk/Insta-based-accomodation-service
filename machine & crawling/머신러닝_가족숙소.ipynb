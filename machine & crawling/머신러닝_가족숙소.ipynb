{
 "cells": [
  {
   "cell_type": "code",
   "execution_count": 1,
   "id": "a65a318b",
   "metadata": {},
   "outputs": [],
   "source": [
    "import pandas as pd\n",
    "from konlpy.tag import Kkma\n",
    "from sklearn.feature_extraction.text import TfidfVectorizer\n",
    "import numpy as np"
   ]
  },
  {
   "cell_type": "code",
   "execution_count": 2,
   "id": "ffad3295",
   "metadata": {},
   "outputs": [],
   "source": [
    "def rmEmoji(data):\n",
    "    return data.encode('euc-kr', 'ignore').decode('euc-kr')"
   ]
  },
  {
   "cell_type": "markdown",
   "id": "a4fb4be5",
   "metadata": {},
   "source": [
    "# 한옥 데이터 전처리"
   ]
  },
  {
   "cell_type": "code",
   "execution_count": 3,
   "id": "a327d3f5",
   "metadata": {
    "scrolled": true
   },
   "outputs": [],
   "source": [
    "hanok = pd.read_csv('CSV/가족숙소.csv')"
   ]
  },
  {
   "cell_type": "code",
   "execution_count": 4,
   "id": "0d13db6b",
   "metadata": {},
   "outputs": [],
   "source": [
    "sukso_recommendation = pd.read_csv('CSV/숙소추천.csv')\n",
    "sukso = pd.read_csv('CSV/숙소.csv')"
   ]
  },
  {
   "cell_type": "code",
   "execution_count": 5,
   "id": "aecb70f1",
   "metadata": {
    "scrolled": true
   },
   "outputs": [],
   "source": [
    "# hanok = hanok.drop('Unnamed: 0', axis = 1)"
   ]
  },
  {
   "cell_type": "markdown",
   "id": "2c08426d",
   "metadata": {},
   "source": [
    "# hanok_hash 전처리"
   ]
  },
  {
   "cell_type": "code",
   "execution_count": 6,
   "id": "0b20d9a5",
   "metadata": {},
   "outputs": [],
   "source": [
    "hanok_hash_list = [] # 비어있는 리스트 만들기 \n",
    "for txt in hanok['hashtag'] : \n",
    "    del_br = txt.strip(\"[]\")\n",
    "    del_br = del_br.replace(\"#\",\"\")\n",
    "    del_br = del_br.replace(\",\",\"\")\n",
    "    del_br = del_br.replace(\"'\",\"\")\n",
    "    \n",
    "    hanok_hash_list.append(del_br) #값 채우기"
   ]
  },
  {
   "cell_type": "code",
   "execution_count": 7,
   "id": "17e334aa",
   "metadata": {},
   "outputs": [],
   "source": [
    "hanok_hash_series = pd.Series(hanok_hash_list)"
   ]
  },
  {
   "cell_type": "code",
   "execution_count": 8,
   "id": "395bec0d",
   "metadata": {},
   "outputs": [],
   "source": [
    "hanok_tf = hanok_hash_series.str.contains(\"숙소\") == 0\n",
    "hanok_tf = hanok_hash_series.str.contains(\"숙소추천\") == 0\n",
    "hanok_hash_series = hanok_hash_series[hanok_tf]"
   ]
  },
  {
   "cell_type": "code",
   "execution_count": 9,
   "id": "57e6e1f7",
   "metadata": {},
   "outputs": [],
   "source": [
    "hanok_hash_series.reset_index(drop = True, inplace = True)"
   ]
  },
  {
   "cell_type": "markdown",
   "id": "cd42b4bc",
   "metadata": {},
   "source": [
    "# hanok_df 전처리"
   ]
  },
  {
   "cell_type": "code",
   "execution_count": 10,
   "id": "e5cb3b71",
   "metadata": {},
   "outputs": [],
   "source": [
    "hanok_df = hanok[hanok['hashtag'].str.contains(\"숙소\") ==0]\n",
    "hanok_df = hanok[hanok['hashtag'].str.contains(\"숙소추천\") ==0]"
   ]
  },
  {
   "cell_type": "code",
   "execution_count": 11,
   "id": "aff2becf",
   "metadata": {
    "scrolled": true
   },
   "outputs": [],
   "source": [
    "index_del = hanok_df[hanok_df['hashtag'] == '[]'].index\n",
    "hanok_df = hanok_df.drop(index_del)"
   ]
  },
  {
   "cell_type": "code",
   "execution_count": 12,
   "id": "236faccf",
   "metadata": {},
   "outputs": [],
   "source": [
    "hanok_df.reset_index(drop = True, inplace = True)"
   ]
  },
  {
   "cell_type": "code",
   "execution_count": 13,
   "id": "9145ed24",
   "metadata": {},
   "outputs": [],
   "source": [
    "hanok_df['hashtag'] = hanok_hash_series"
   ]
  },
  {
   "cell_type": "code",
   "execution_count": 14,
   "id": "7b1ccd5f",
   "metadata": {},
   "outputs": [
    {
     "name": "stderr",
     "output_type": "stream",
     "text": [
      "C:\\Users\\morni\\Anaconda3\\lib\\site-packages\\pandas\\core\\indexing.py:1637: SettingWithCopyWarning: \n",
      "A value is trying to be set on a copy of a slice from a DataFrame\n",
      "\n",
      "See the caveats in the documentation: https://pandas.pydata.org/pandas-docs/stable/user_guide/indexing.html#returning-a-view-versus-a-copy\n",
      "  self._setitem_single_block(indexer, value, name)\n"
     ]
    }
   ],
   "source": [
    "for i in range(len(hanok_df['hashtag'])):\n",
    "    if(len(hanok_df['hashtag'].iloc[i])<=2):\n",
    "        hanok_df['hashtag'].iloc[i] = rmEmoji(hanok_df['hashtag'].iloc[i])"
   ]
  },
  {
   "cell_type": "code",
   "execution_count": 15,
   "id": "9d77782f",
   "metadata": {},
   "outputs": [],
   "source": [
    "index_del = hanok_df[hanok_df['hashtag'] == ''].index\n",
    "hanok_df = hanok_df.drop(index_del)"
   ]
  },
  {
   "cell_type": "code",
   "execution_count": 16,
   "id": "cc61676f",
   "metadata": {},
   "outputs": [],
   "source": [
    "hanok_df.reset_index(drop = True, inplace = True)"
   ]
  },
  {
   "cell_type": "code",
   "execution_count": 17,
   "id": "6763999d",
   "metadata": {
    "scrolled": true
   },
   "outputs": [
    {
     "data": {
      "text/html": [
       "<div>\n",
       "<style scoped>\n",
       "    .dataframe tbody tr th:only-of-type {\n",
       "        vertical-align: middle;\n",
       "    }\n",
       "\n",
       "    .dataframe tbody tr th {\n",
       "        vertical-align: top;\n",
       "    }\n",
       "\n",
       "    .dataframe thead th {\n",
       "        text-align: right;\n",
       "    }\n",
       "</style>\n",
       "<table border=\"1\" class=\"dataframe\">\n",
       "  <thead>\n",
       "    <tr style=\"text-align: right;\">\n",
       "      <th></th>\n",
       "      <th>id</th>\n",
       "      <th>date</th>\n",
       "      <th>like</th>\n",
       "      <th>text</th>\n",
       "      <th>hashtag</th>\n",
       "      <th>src</th>\n",
       "      <th>target</th>\n",
       "    </tr>\n",
       "  </thead>\n",
       "  <tbody>\n",
       "    <tr>\n",
       "      <th>0</th>\n",
       "      <td>cheongchunhanok</td>\n",
       "      <td>2020-12-08 00:00:00+00:00</td>\n",
       "      <td>535</td>\n",
       "      <td>리모델링 완료! 우리 가족 겨울여행을 위한 아늑한 펜션~ 예약 서둘러주세요! 기다리...</td>\n",
       "      <td>경주가족펜션 경주한옥 경주독채펜션 경주숙박 경주숙소 경주호텔 경주가족여행 경주 보문...</td>\n",
       "      <td>https://scontent-ssn1-1.cdninstagram.com/v/t51...</td>\n",
       "      <td>1</td>\n",
       "    </tr>\n",
       "    <tr>\n",
       "      <th>1</th>\n",
       "      <td>cheongchunhanok</td>\n",
       "      <td>2020-11-26 00:00:00+00:00</td>\n",
       "      <td>141</td>\n",
       "      <td>리모델링 완료! 우리 가족 겨울여행을 위한 아늑한 펜션~ 예약 서둘러주세요! 기다리...</td>\n",
       "      <td>경주펜션 경주독채펜션 경주단체펜션 경주가족펜션 경주복층펜션 경주여행 경주펜션 경주게...</td>\n",
       "      <td>https://scontent-ssn1-1.cdninstagram.com/v/t51...</td>\n",
       "      <td>1</td>\n",
       "    </tr>\n",
       "    <tr>\n",
       "      <th>2</th>\n",
       "      <td>aidennnn_k</td>\n",
       "      <td>2020-11-08 00:00:00+00:00</td>\n",
       "      <td>671</td>\n",
       "      <td>이번 경주여행을 더욱더 특별하게 만들ᄋ...</td>\n",
       "      <td>흐르는결 흐르는결 황리단길 대릉원 경...</td>\n",
       "      <td>https://scontent-ssn1-1.cdninstagram.com/v/t51...</td>\n",
       "      <td>1</td>\n",
       "    </tr>\n",
       "    <tr>\n",
       "      <th>3</th>\n",
       "      <td>cheongchunhanok</td>\n",
       "      <td>2020-11-26 00:00:00+00:00</td>\n",
       "      <td>276</td>\n",
       "      <td>리모델링 완료! 우리 가족 겨울여행을 위한 아늑한 펜션~ 예약 서둘러주세요! 기다리...</td>\n",
       "      <td>경주펜션 경주독채펜션 불국사 경주게스트하우스 경주단체펜션 경주한옥펜션 경주한옥 보문...</td>\n",
       "      <td>https://scontent-ssn1-1.cdninstagram.com/v/t51...</td>\n",
       "      <td>1</td>\n",
       "    </tr>\n",
       "    <tr>\n",
       "      <th>4</th>\n",
       "      <td>aroundfollie</td>\n",
       "      <td>2018-07-09 00:00:00+00:00</td>\n",
       "      <td>117</td>\n",
       "      <td>제주의 자연은 사람에게 겸허한 마음을 갖게 합니다. 경의로운 풍경 아래 오롯하게 텐...</td>\n",
       "      <td>제주 jeju 어라운드폴리 aroundfollie 스테이폴리오 stayfolio 제...</td>\n",
       "      <td>https://scontent-ssn1-1.cdninstagram.com/v/t51...</td>\n",
       "      <td>1</td>\n",
       "    </tr>\n",
       "    <tr>\n",
       "      <th>...</th>\n",
       "      <td>...</td>\n",
       "      <td>...</td>\n",
       "      <td>...</td>\n",
       "      <td>...</td>\n",
       "      <td>...</td>\n",
       "      <td>...</td>\n",
       "      <td>...</td>\n",
       "    </tr>\n",
       "    <tr>\n",
       "      <th>2364</th>\n",
       "      <td>photofreeter</td>\n",
       "      <td>2015-07-21 00:00:00+00:00</td>\n",
       "      <td>138</td>\n",
       "      <td>. . Baby in 제주안뜰 . . 310주</td>\n",
       "      <td>돌담에속삭이는제주 제주도푸른밤 제주다움 제주여행 제주돌집 제주 제주도 일상 여유 힐...</td>\n",
       "      <td>https://scontent-ssn1-1.cdninstagram.com/v/t51...</td>\n",
       "      <td>1</td>\n",
       "    </tr>\n",
       "    <tr>\n",
       "      <th>2365</th>\n",
       "      <td>welcome_ming</td>\n",
       "      <td>2015-07-20 00:00:00+00:00</td>\n",
       "      <td>10</td>\n",
       "      <td>두부의아련한눈빛 착한두부😬 310주</td>\n",
       "      <td>돌담에속삭이는제주 제주여행 제주돌집 제주 제주도 제주아침 일상 여유 힐링 쉼 정 추...</td>\n",
       "      <td>https://scontent-ssn1-1.cdninstagram.com/v/t51...</td>\n",
       "      <td>1</td>\n",
       "    </tr>\n",
       "    <tr>\n",
       "      <th>2366</th>\n",
       "      <td>photofreeter</td>\n",
       "      <td>2015-07-20 00:00:00+00:00</td>\n",
       "      <td>187</td>\n",
       "      <td>. . UFO in 제주안뜰 . . 310주</td>\n",
       "      <td>돌담에속삭이는제주 제주여행 제주돌집 제주 제주도 제주아침 일상 여유 힐링 쉼 정 추...</td>\n",
       "      <td>https://scontent-ssn1-1.cdninstagram.com/v/t51...</td>\n",
       "      <td>1</td>\n",
       "    </tr>\n",
       "    <tr>\n",
       "      <th>2367</th>\n",
       "      <td>photofreeter</td>\n",
       "      <td>2015-07-07 00:00:00+00:00</td>\n",
       "      <td>158</td>\n",
       "      <td>. . 애정이 깃든 제주안뜰 . . 312주</td>\n",
       "      <td>돌담에속삭이는제주 제주여행 제주돌집 제주 제주도 제주아침 일상 여유 힐링 쉼 정 추...</td>\n",
       "      <td>https://scontent-ssn1-1.cdninstagram.com/v/t51...</td>\n",
       "      <td>1</td>\n",
       "    </tr>\n",
       "    <tr>\n",
       "      <th>2368</th>\n",
       "      <td>welcome_ming</td>\n",
       "      <td>2015-06-04 00:00:00+00:00</td>\n",
       "      <td>7</td>\n",
       "      <td>두부는 이제 야외취침💩💬🌚👀 317주</td>\n",
       "      <td>제주 제주도 jeju jejudo 한림 한림읍 귀덕리숙소 제주여행 제주숙소 제주도숙...</td>\n",
       "      <td>https://scontent-ssn1-1.cdninstagram.com/v/t51...</td>\n",
       "      <td>1</td>\n",
       "    </tr>\n",
       "  </tbody>\n",
       "</table>\n",
       "<p>2369 rows × 7 columns</p>\n",
       "</div>"
      ],
      "text/plain": [
       "                   id                       date like  \\\n",
       "0     cheongchunhanok  2020-12-08 00:00:00+00:00  535   \n",
       "1     cheongchunhanok  2020-11-26 00:00:00+00:00  141   \n",
       "2          aidennnn_k  2020-11-08 00:00:00+00:00  671   \n",
       "3     cheongchunhanok  2020-11-26 00:00:00+00:00  276   \n",
       "4        aroundfollie  2018-07-09 00:00:00+00:00  117   \n",
       "...               ...                        ...  ...   \n",
       "2364     photofreeter  2015-07-21 00:00:00+00:00  138   \n",
       "2365     welcome_ming  2015-07-20 00:00:00+00:00   10   \n",
       "2366     photofreeter  2015-07-20 00:00:00+00:00  187   \n",
       "2367     photofreeter  2015-07-07 00:00:00+00:00  158   \n",
       "2368     welcome_ming  2015-06-04 00:00:00+00:00    7   \n",
       "\n",
       "                                                   text  \\\n",
       "0     리모델링 완료! 우리 가족 겨울여행을 위한 아늑한 펜션~ 예약 서둘러주세요! 기다리...   \n",
       "1     리모델링 완료! 우리 가족 겨울여행을 위한 아늑한 펜션~ 예약 서둘러주세요! 기다리...   \n",
       "2     이번 경주여행을 더욱더 특별하게 만들ᄋ...   \n",
       "3     리모델링 완료! 우리 가족 겨울여행을 위한 아늑한 펜션~ 예약 서둘러주세요! 기다리...   \n",
       "4     제주의 자연은 사람에게 겸허한 마음을 갖게 합니다. 경의로운 풍경 아래 오롯하게 텐...   \n",
       "...                                                 ...   \n",
       "2364                          . . Baby in 제주안뜰 . . 310주   \n",
       "2365                                두부의아련한눈빛 착한두부😬 310주   \n",
       "2366                           . . UFO in 제주안뜰 . . 310주   \n",
       "2367                           . . 애정이 깃든 제주안뜰 . . 312주   \n",
       "2368                               두부는 이제 야외취침💩💬🌚👀 317주   \n",
       "\n",
       "                                                hashtag  \\\n",
       "0     경주가족펜션 경주한옥 경주독채펜션 경주숙박 경주숙소 경주호텔 경주가족여행 경주 보문...   \n",
       "1     경주펜션 경주독채펜션 경주단체펜션 경주가족펜션 경주복층펜션 경주여행 경주펜션 경주게...   \n",
       "2     흐르는결 흐르는결 황리단길 대릉원 경...   \n",
       "3     경주펜션 경주독채펜션 불국사 경주게스트하우스 경주단체펜션 경주한옥펜션 경주한옥 보문...   \n",
       "4     제주 jeju 어라운드폴리 aroundfollie 스테이폴리오 stayfolio 제...   \n",
       "...                                                 ...   \n",
       "2364  돌담에속삭이는제주 제주도푸른밤 제주다움 제주여행 제주돌집 제주 제주도 일상 여유 힐...   \n",
       "2365  돌담에속삭이는제주 제주여행 제주돌집 제주 제주도 제주아침 일상 여유 힐링 쉼 정 추...   \n",
       "2366  돌담에속삭이는제주 제주여행 제주돌집 제주 제주도 제주아침 일상 여유 힐링 쉼 정 추...   \n",
       "2367  돌담에속삭이는제주 제주여행 제주돌집 제주 제주도 제주아침 일상 여유 힐링 쉼 정 추...   \n",
       "2368  제주 제주도 jeju jejudo 한림 한림읍 귀덕리숙소 제주여행 제주숙소 제주도숙...   \n",
       "\n",
       "                                                    src  target  \n",
       "0     https://scontent-ssn1-1.cdninstagram.com/v/t51...       1  \n",
       "1     https://scontent-ssn1-1.cdninstagram.com/v/t51...       1  \n",
       "2     https://scontent-ssn1-1.cdninstagram.com/v/t51...       1  \n",
       "3     https://scontent-ssn1-1.cdninstagram.com/v/t51...       1  \n",
       "4     https://scontent-ssn1-1.cdninstagram.com/v/t51...       1  \n",
       "...                                                 ...     ...  \n",
       "2364  https://scontent-ssn1-1.cdninstagram.com/v/t51...       1  \n",
       "2365  https://scontent-ssn1-1.cdninstagram.com/v/t51...       1  \n",
       "2366  https://scontent-ssn1-1.cdninstagram.com/v/t51...       1  \n",
       "2367  https://scontent-ssn1-1.cdninstagram.com/v/t51...       1  \n",
       "2368  https://scontent-ssn1-1.cdninstagram.com/v/t51...       1  \n",
       "\n",
       "[2369 rows x 7 columns]"
      ]
     },
     "execution_count": 17,
     "metadata": {},
     "output_type": "execute_result"
    }
   ],
   "source": [
    "hanok_df"
   ]
  },
  {
   "cell_type": "markdown",
   "id": "91fe7fca",
   "metadata": {},
   "source": [
    "# sukso + sukso_reco : MERGE"
   ]
  },
  {
   "cell_type": "code",
   "execution_count": 18,
   "id": "6cb9283b",
   "metadata": {},
   "outputs": [],
   "source": [
    "# sukso_recommendation = pd.read_csv('숙소추천.csv')\n",
    "# sukso = pd.read_csv('숙소.csv')"
   ]
  },
  {
   "cell_type": "code",
   "execution_count": 19,
   "id": "87cfeb1f",
   "metadata": {},
   "outputs": [],
   "source": [
    "sukso = sukso[sukso['hashtag'].str.contains('숙소추천')==0]"
   ]
  },
  {
   "cell_type": "code",
   "execution_count": 20,
   "id": "5d44d8cd",
   "metadata": {},
   "outputs": [],
   "source": [
    "sukso_merge = pd.concat([sukso_recommendation,sukso] , axis= 0)"
   ]
  },
  {
   "cell_type": "code",
   "execution_count": 21,
   "id": "777d92b6",
   "metadata": {},
   "outputs": [],
   "source": [
    "index_del2 = sukso_merge[sukso_merge['hashtag'] == '[]'].index\n",
    "sukso_merge = sukso_merge.drop(index_del2)"
   ]
  },
  {
   "cell_type": "code",
   "execution_count": 22,
   "id": "eb576d86",
   "metadata": {},
   "outputs": [],
   "source": [
    "sukso_merge_list = [] # 비어있는 리스트 만들기 \n",
    "for txt in sukso_merge['hashtag'] : \n",
    "    del_br = txt.strip(\"[]\")\n",
    "    del_br = del_br.replace(\"#\",\" \")\n",
    "    del_br = del_br.replace(\",\",\"\")\n",
    "    del_br = del_br.replace(\"'\",\"\")\n",
    "    sukso_merge_list.append(del_br) #값 채우기"
   ]
  },
  {
   "cell_type": "code",
   "execution_count": 23,
   "id": "76d0c498",
   "metadata": {},
   "outputs": [],
   "source": [
    "sukso_merge_series = pd.Series(sukso_merge_list)"
   ]
  },
  {
   "cell_type": "code",
   "execution_count": 24,
   "id": "9d25d0e8",
   "metadata": {},
   "outputs": [],
   "source": [
    "sukso_merge_series= sukso_merge_series.str.contains(\"가족숙소\") ==0\n",
    "sukso_merge_series= sukso_merge_series[sukso_merge_series] "
   ]
  },
  {
   "cell_type": "code",
   "execution_count": 25,
   "id": "735915d7",
   "metadata": {},
   "outputs": [],
   "source": [
    "sukso_merge.reset_index(drop = True, inplace = True)"
   ]
  },
  {
   "cell_type": "code",
   "execution_count": 26,
   "id": "14524f4a",
   "metadata": {},
   "outputs": [],
   "source": [
    "sukso_merge['hashtag'] =sukso_merge_list"
   ]
  },
  {
   "cell_type": "code",
   "execution_count": 27,
   "id": "a656e8fa",
   "metadata": {},
   "outputs": [
    {
     "name": "stderr",
     "output_type": "stream",
     "text": [
      "C:\\Users\\morni\\Anaconda3\\lib\\site-packages\\pandas\\core\\indexing.py:1637: SettingWithCopyWarning: \n",
      "A value is trying to be set on a copy of a slice from a DataFrame\n",
      "\n",
      "See the caveats in the documentation: https://pandas.pydata.org/pandas-docs/stable/user_guide/indexing.html#returning-a-view-versus-a-copy\n",
      "  self._setitem_single_block(indexer, value, name)\n"
     ]
    }
   ],
   "source": [
    "for i in range(len(sukso_merge['hashtag'])):\n",
    "    if(len(sukso_merge['hashtag'].iloc[i])<=2):\n",
    "        sukso_merge['hashtag'].iloc[i] = rmEmoji(sukso_merge['hashtag'].iloc[i])"
   ]
  },
  {
   "cell_type": "code",
   "execution_count": 28,
   "id": "34c1f5bc",
   "metadata": {},
   "outputs": [],
   "source": [
    "index_del = sukso_merge[sukso_merge['hashtag'] == ''].index\n",
    "sukso_merge = sukso_merge.drop(index_del)"
   ]
  },
  {
   "cell_type": "code",
   "execution_count": 29,
   "id": "a01d27db",
   "metadata": {},
   "outputs": [],
   "source": [
    "sukso_merge.reset_index(drop = True, inplace = True)"
   ]
  },
  {
   "cell_type": "code",
   "execution_count": 30,
   "id": "c4b54ca4",
   "metadata": {
    "scrolled": true
   },
   "outputs": [
    {
     "data": {
      "text/html": [
       "<div>\n",
       "<style scoped>\n",
       "    .dataframe tbody tr th:only-of-type {\n",
       "        vertical-align: middle;\n",
       "    }\n",
       "\n",
       "    .dataframe tbody tr th {\n",
       "        vertical-align: top;\n",
       "    }\n",
       "\n",
       "    .dataframe thead th {\n",
       "        text-align: right;\n",
       "    }\n",
       "</style>\n",
       "<table border=\"1\" class=\"dataframe\">\n",
       "  <thead>\n",
       "    <tr style=\"text-align: right;\">\n",
       "      <th></th>\n",
       "      <th>id</th>\n",
       "      <th>date</th>\n",
       "      <th>like</th>\n",
       "      <th>text</th>\n",
       "      <th>hashtag</th>\n",
       "      <th>src</th>\n",
       "      <th>target</th>\n",
       "    </tr>\n",
       "  </thead>\n",
       "  <tbody>\n",
       "    <tr>\n",
       "      <th>0</th>\n",
       "      <td>busansomang</td>\n",
       "      <td>2021-06-21 00:00:00+00:00</td>\n",
       "      <td>2,086</td>\n",
       "      <td>감성숙소 모음리스트✈️ 갬성, 힐링 모든 면에서 대박인 제쥬도 존예 숙소 다 모아와...</td>\n",
       "      <td>제주  제주  제주도  숙소  제주숙소  숙소추천  제주숙소추천  제주여행  제주...</td>\n",
       "      <td>https://scontent-ssn1-1.cdninstagram.com/v/t51...</td>\n",
       "      <td>0</td>\n",
       "    </tr>\n",
       "    <tr>\n",
       "      <th>1</th>\n",
       "      <td>zzazang_</td>\n",
       "      <td>2021-06-26 00:00:00+00:00</td>\n",
       "      <td>3,385</td>\n",
       "      <td>이거 하나보고 예약했던 숙소 🪨🪵🐷🥩🥬🍹💖 . . . 2일</td>\n",
       "      <td>제주여행  제주도여행  제주도  제주  제주숙소  제주숙소추천  제주독채  제주독...</td>\n",
       "      <td>https://scontent-ssn1-1.cdninstagram.com/v/t51...</td>\n",
       "      <td>0</td>\n",
       "    </tr>\n",
       "    <tr>\n",
       "      <th>2</th>\n",
       "      <td>ejiyang</td>\n",
       "      <td>2021-06-09 00:00:00+00:00</td>\n",
       "      <td>1,785</td>\n",
       "      <td>문의주신 숙소 공유해드려요♥️ 서귀포에 위치한 이에요🌼 이번 제주는 서귀포쪽에 머물...</td>\n",
       "      <td>부영호텔</td>\n",
       "      <td>https://scontent-ssn1-1.cdninstagram.com/v/t51...</td>\n",
       "      <td>0</td>\n",
       "    </tr>\n",
       "    <tr>\n",
       "      <th>3</th>\n",
       "      <td>so__hyeon</td>\n",
       "      <td>2021-06-26 00:00:00+00:00</td>\n",
       "      <td>14,145</td>\n",
       "      <td>여기 진짜 미쳤다. 너무너무 좋다는 말 밖에🏕🍃 우리 사이트 바로 앞으로 바람 솔솔...</td>\n",
       "      <td>캠핑  캠핑장추천  캠핑장  캠핑스타...</td>\n",
       "      <td>https://scontent-ssn1-1.cdninstagram.com/v/t51...</td>\n",
       "      <td>0</td>\n",
       "    </tr>\n",
       "    <tr>\n",
       "      <th>4</th>\n",
       "      <td>stayfolio\\n인증됨</td>\n",
       "      <td>2021-06-24 00:00:00+00:00</td>\n",
       "      <td>1,892</td>\n",
       "      <td>인증됨 작고(釐毫) 소박한 즐거움(小樂)을 더하다, 화려하게 꾸며진 공간은 많다. ...</td>\n",
       "      <td>이호소락  스테이폴리오  스테이폴리오_서울  북촌  노천탕</td>\n",
       "      <td>https://scontent-ssn1-1.cdninstagram.com/v/t51...</td>\n",
       "      <td>0</td>\n",
       "    </tr>\n",
       "    <tr>\n",
       "      <th>...</th>\n",
       "      <td>...</td>\n",
       "      <td>...</td>\n",
       "      <td>...</td>\n",
       "      <td>...</td>\n",
       "      <td>...</td>\n",
       "      <td>...</td>\n",
       "      <td>...</td>\n",
       "    </tr>\n",
       "    <tr>\n",
       "      <th>7122</th>\n",
       "      <td>mhc022012</td>\n",
       "      <td>2021-03-30 00:00:00+00:00</td>\n",
       "      <td>영상</td>\n",
       "      <td>Happy pottery studio Jeju 행복공방 에치비 도자기체험 제주 Ma...</td>\n",
       "      <td>체험  가볼만한곳  제주  서귀포  도자기  도예  귤  감귤  중문  숙소  카...</td>\n",
       "      <td>NaN</td>\n",
       "      <td>0</td>\n",
       "    </tr>\n",
       "    <tr>\n",
       "      <th>7123</th>\n",
       "      <td>seo_yeong_star</td>\n",
       "      <td>2021-03-30 00:00:00+00:00</td>\n",
       "      <td>246</td>\n",
       "      <td>방문자리뷰에 올려주신 후기 사진이예요 파란하늘과 마루방을 너무 이쁘게 담아주셔서 가...</td>\n",
       "      <td>누마루  파란하늘  방문자리뷰  스테이황룡  한옥스타그램  한옥스테이  한옥게스트...</td>\n",
       "      <td>https://scontent-ssn1-1.cdninstagram.com/v/t51...</td>\n",
       "      <td>0</td>\n",
       "    </tr>\n",
       "    <tr>\n",
       "      <th>7124</th>\n",
       "      <td>___ju1004</td>\n",
       "      <td>2021-03-30 00:00:00+00:00</td>\n",
       "      <td>24</td>\n",
       "      <td>제주도에서의 하루^^ 제주도도 황사가 장난아님...;;; . . . 13주</td>\n",
       "      <td>정방폭포  제주도  황사  신행  신혼여행  숙소</td>\n",
       "      <td>https://scontent-ssn1-1.cdninstagram.com/v/t51...</td>\n",
       "      <td>0</td>\n",
       "    </tr>\n",
       "    <tr>\n",
       "      <th>7125</th>\n",
       "      <td>hyejini_vv</td>\n",
       "      <td>2021-03-30 00:00:00+00:00</td>\n",
       "      <td>20</td>\n",
       "      <td>제주 여행 여덟번째기록📝 노잼여행을 유잼여행으로 만들어주신 @youngmi__s2 ...</td>\n",
       "      <td>마지막  기록  제주  여행  뚜벅이  혼여행  마지막피드  즐거웠다  날씨는  ...</td>\n",
       "      <td>https://scontent-ssn1-1.cdninstagram.com/v/t51...</td>\n",
       "      <td>0</td>\n",
       "    </tr>\n",
       "    <tr>\n",
       "      <th>7126</th>\n",
       "      <td>ho_y.e.rin_</td>\n",
       "      <td>2021-03-30 00:00:00+00:00</td>\n",
       "      <td>63</td>\n",
       "      <td>일어나서 밥 먹는둥🌸 . . . 13주</td>\n",
       "      <td>먹방스타그램  양평  숙소  아침메뉴</td>\n",
       "      <td>https://scontent-ssn1-1.cdninstagram.com/v/t51...</td>\n",
       "      <td>0</td>\n",
       "    </tr>\n",
       "  </tbody>\n",
       "</table>\n",
       "<p>7127 rows × 7 columns</p>\n",
       "</div>"
      ],
      "text/plain": [
       "                  id                       date    like  \\\n",
       "0        busansomang  2021-06-21 00:00:00+00:00   2,086   \n",
       "1           zzazang_  2021-06-26 00:00:00+00:00   3,385   \n",
       "2            ejiyang  2021-06-09 00:00:00+00:00   1,785   \n",
       "3          so__hyeon  2021-06-26 00:00:00+00:00  14,145   \n",
       "4     stayfolio\\n인증됨  2021-06-24 00:00:00+00:00   1,892   \n",
       "...              ...                        ...     ...   \n",
       "7122       mhc022012  2021-03-30 00:00:00+00:00      영상   \n",
       "7123  seo_yeong_star  2021-03-30 00:00:00+00:00     246   \n",
       "7124       ___ju1004  2021-03-30 00:00:00+00:00      24   \n",
       "7125      hyejini_vv  2021-03-30 00:00:00+00:00      20   \n",
       "7126     ho_y.e.rin_  2021-03-30 00:00:00+00:00      63   \n",
       "\n",
       "                                                   text  \\\n",
       "0     감성숙소 모음리스트✈️ 갬성, 힐링 모든 면에서 대박인 제쥬도 존예 숙소 다 모아와...   \n",
       "1                      이거 하나보고 예약했던 숙소 🪨🪵🐷🥩🥬🍹💖 . . . 2일   \n",
       "2     문의주신 숙소 공유해드려요♥️ 서귀포에 위치한 이에요🌼 이번 제주는 서귀포쪽에 머물...   \n",
       "3     여기 진짜 미쳤다. 너무너무 좋다는 말 밖에🏕🍃 우리 사이트 바로 앞으로 바람 솔솔...   \n",
       "4     인증됨 작고(釐毫) 소박한 즐거움(小樂)을 더하다, 화려하게 꾸며진 공간은 많다. ...   \n",
       "...                                                 ...   \n",
       "7122  Happy pottery studio Jeju 행복공방 에치비 도자기체험 제주 Ma...   \n",
       "7123  방문자리뷰에 올려주신 후기 사진이예요 파란하늘과 마루방을 너무 이쁘게 담아주셔서 가...   \n",
       "7124          제주도에서의 하루^^ 제주도도 황사가 장난아님...;;; . . . 13주   \n",
       "7125  제주 여행 여덟번째기록📝 노잼여행을 유잼여행으로 만들어주신 @youngmi__s2 ...   \n",
       "7126                              일어나서 밥 먹는둥🌸 . . . 13주   \n",
       "\n",
       "                                                hashtag  \\\n",
       "0      제주  제주  제주도  숙소  제주숙소  숙소추천  제주숙소추천  제주여행  제주...   \n",
       "1      제주여행  제주도여행  제주도  제주  제주숙소  제주숙소추천  제주독채  제주독...   \n",
       "2                                                  부영호텔   \n",
       "3      캠핑  캠핑장추천  캠핑장  캠핑스타...   \n",
       "4                      이호소락  스테이폴리오  스테이폴리오_서울  북촌  노천탕   \n",
       "...                                                 ...   \n",
       "7122   체험  가볼만한곳  제주  서귀포  도자기  도예  귤  감귤  중문  숙소  카...   \n",
       "7123   누마루  파란하늘  방문자리뷰  스테이황룡  한옥스타그램  한옥스테이  한옥게스트...   \n",
       "7124                        정방폭포  제주도  황사  신행  신혼여행  숙소   \n",
       "7125   마지막  기록  제주  여행  뚜벅이  혼여행  마지막피드  즐거웠다  날씨는  ...   \n",
       "7126                               먹방스타그램  양평  숙소  아침메뉴   \n",
       "\n",
       "                                                    src  target  \n",
       "0     https://scontent-ssn1-1.cdninstagram.com/v/t51...       0  \n",
       "1     https://scontent-ssn1-1.cdninstagram.com/v/t51...       0  \n",
       "2     https://scontent-ssn1-1.cdninstagram.com/v/t51...       0  \n",
       "3     https://scontent-ssn1-1.cdninstagram.com/v/t51...       0  \n",
       "4     https://scontent-ssn1-1.cdninstagram.com/v/t51...       0  \n",
       "...                                                 ...     ...  \n",
       "7122                                                NaN       0  \n",
       "7123  https://scontent-ssn1-1.cdninstagram.com/v/t51...       0  \n",
       "7124  https://scontent-ssn1-1.cdninstagram.com/v/t51...       0  \n",
       "7125  https://scontent-ssn1-1.cdninstagram.com/v/t51...       0  \n",
       "7126  https://scontent-ssn1-1.cdninstagram.com/v/t51...       0  \n",
       "\n",
       "[7127 rows x 7 columns]"
      ]
     },
     "execution_count": 30,
     "metadata": {},
     "output_type": "execute_result"
    }
   ],
   "source": [
    "sukso_merge"
   ]
  },
  {
   "cell_type": "markdown",
   "id": "0caf727b",
   "metadata": {},
   "source": [
    "# 머신러닝 학습"
   ]
  },
  {
   "cell_type": "code",
   "execution_count": 31,
   "id": "0217cbfb",
   "metadata": {},
   "outputs": [],
   "source": [
    "sukso_merge_data= sukso_merge.iloc[:, [4,6]]\n",
    "hanok_data = hanok_df.iloc[:, [4,6]]"
   ]
  },
  {
   "cell_type": "code",
   "execution_count": 32,
   "id": "32f641ce",
   "metadata": {},
   "outputs": [],
   "source": [
    "hanok_plus_sukso_merge = pd.concat([hanok_data,sukso_merge_data], axis = 0)"
   ]
  },
  {
   "cell_type": "code",
   "execution_count": 33,
   "id": "bd6268bd",
   "metadata": {},
   "outputs": [],
   "source": [
    "hanok_plus_sukso_merge_X = hanok_plus_sukso_merge.iloc[:, 0]\n",
    "hanok_plus_sukso_merge_y = hanok_plus_sukso_merge.iloc[:, 1]"
   ]
  },
  {
   "cell_type": "code",
   "execution_count": 34,
   "id": "a3832a51",
   "metadata": {},
   "outputs": [],
   "source": [
    "from sklearn.model_selection import train_test_split"
   ]
  },
  {
   "cell_type": "code",
   "execution_count": 35,
   "id": "5ead377a",
   "metadata": {},
   "outputs": [],
   "source": [
    "X_train, X_test, y_train, y_test = train_test_split(hanok_plus_sukso_merge_X, # 문제데이터\n",
    "                                                    hanok_plus_sukso_merge_y,  #정답데이터\n",
    "                                                   random_state = 3,  # 섞는 방법\n",
    "                                                   test_size =0.3)"
   ]
  },
  {
   "cell_type": "code",
   "execution_count": 36,
   "id": "ef5204f8",
   "metadata": {},
   "outputs": [],
   "source": [
    "from sklearn.feature_extraction.text import CountVectorizer\n",
    "testCV = CountVectorizer()"
   ]
  },
  {
   "cell_type": "code",
   "execution_count": 37,
   "id": "6c237af5",
   "metadata": {},
   "outputs": [
    {
     "data": {
      "text/plain": [
       "CountVectorizer()"
      ]
     },
     "execution_count": 37,
     "metadata": {},
     "output_type": "execute_result"
    }
   ],
   "source": [
    "testCV.fit(X_train, y_train)"
   ]
  },
  {
   "cell_type": "code",
   "execution_count": 38,
   "id": "32d62bdf",
   "metadata": {},
   "outputs": [],
   "source": [
    "X_train_CV = testCV.transform(X_train)\n",
    "X_test_CV = testCV.transform(X_test)"
   ]
  },
  {
   "cell_type": "code",
   "execution_count": 39,
   "id": "a33dc5fd",
   "metadata": {},
   "outputs": [],
   "source": [
    "from sklearn.svm import LinearSVC\n",
    "from sklearn.model_selection import cross_val_score\n",
    "svm = LinearSVC()"
   ]
  },
  {
   "cell_type": "code",
   "execution_count": 40,
   "id": "ad3fb266",
   "metadata": {},
   "outputs": [
    {
     "data": {
      "text/plain": [
       "0.9912746878482889"
      ]
     },
     "execution_count": 40,
     "metadata": {},
     "output_type": "execute_result"
    }
   ],
   "source": [
    "svm_result = cross_val_score(svm, X_train_CV, y_train, cv=5)\n",
    "svm_result.mean()"
   ]
  },
  {
   "cell_type": "code",
   "execution_count": 41,
   "id": "4aa0cf78",
   "metadata": {},
   "outputs": [
    {
     "data": {
      "text/plain": [
       "LinearSVC()"
      ]
     },
     "execution_count": 41,
     "metadata": {},
     "output_type": "execute_result"
    }
   ],
   "source": [
    "svm.fit(X_train_CV,y_train)"
   ]
  },
  {
   "cell_type": "markdown",
   "id": "ce96c0a1",
   "metadata": {},
   "source": [
    "# 숙소_숙소추천에서 특정 카테고리 분류하기"
   ]
  },
  {
   "cell_type": "code",
   "execution_count": 42,
   "id": "d0d76a08",
   "metadata": {},
   "outputs": [],
   "source": [
    "sukso_recommendation = pd.read_csv('숙소추천.csv')\n",
    "sukso = pd.read_csv('숙소.csv')"
   ]
  },
  {
   "cell_type": "code",
   "execution_count": 43,
   "id": "49a1e643",
   "metadata": {},
   "outputs": [],
   "source": [
    "sukso = sukso[sukso['hashtag'].str.contains('숙소추천')==0]"
   ]
  },
  {
   "cell_type": "code",
   "execution_count": 44,
   "id": "421e9301",
   "metadata": {},
   "outputs": [],
   "source": [
    "sukso_merge = pd.concat([sukso_recommendation,sukso] , axis= 0)"
   ]
  },
  {
   "cell_type": "code",
   "execution_count": 45,
   "id": "82f49499",
   "metadata": {},
   "outputs": [],
   "source": [
    "index_del2 = sukso_merge[sukso_merge['hashtag'] == '[]'].index\n",
    "sukso_merge = sukso_merge.drop(index_del2)"
   ]
  },
  {
   "cell_type": "code",
   "execution_count": 46,
   "id": "2237aa2e",
   "metadata": {},
   "outputs": [],
   "source": [
    "sukso_merge_list = [] # 비어있는 리스트 만들기 \n",
    "for txt in sukso_merge['hashtag'] : \n",
    "    del_br = txt.strip(\"[]\")\n",
    "    del_br = del_br.replace(\"#\",\" \")\n",
    "    del_br = del_br.replace(\",\",\"\")\n",
    "    del_br = del_br.replace(\"'\",\"\")\n",
    "    sukso_merge_list.append(del_br) #값 채우기"
   ]
  },
  {
   "cell_type": "code",
   "execution_count": 47,
   "id": "47af66d2",
   "metadata": {},
   "outputs": [],
   "source": [
    "sukso_merge_series = pd.Series(sukso_merge_list)"
   ]
  },
  {
   "cell_type": "code",
   "execution_count": 48,
   "id": "2b9dfc4d",
   "metadata": {},
   "outputs": [],
   "source": [
    "sukso_merge.reset_index(drop = True, inplace = True)"
   ]
  },
  {
   "cell_type": "code",
   "execution_count": 49,
   "id": "0993fd85",
   "metadata": {},
   "outputs": [],
   "source": [
    "sukso_merge['hashtag'] =sukso_merge_list"
   ]
  },
  {
   "cell_type": "code",
   "execution_count": 50,
   "id": "34042f27",
   "metadata": {},
   "outputs": [],
   "source": [
    "X_train_CV = testCV.transform(sukso_merge.iloc[:, 4])"
   ]
  },
  {
   "cell_type": "code",
   "execution_count": 51,
   "id": "794bbf4b",
   "metadata": {},
   "outputs": [],
   "source": [
    "predict_array = svm.predict(X_train_CV)"
   ]
  },
  {
   "cell_type": "code",
   "execution_count": 52,
   "id": "0cb20f1f",
   "metadata": {},
   "outputs": [],
   "source": [
    "one_numpy = np.where(predict_array==1)"
   ]
  },
  {
   "cell_type": "code",
   "execution_count": 53,
   "id": "44018154",
   "metadata": {
    "scrolled": true
   },
   "outputs": [
    {
     "data": {
      "text/plain": [
       "(array([ 435, 3909, 3936, 3981, 4896, 5889, 5963, 5970, 5990], dtype=int64),)"
      ]
     },
     "execution_count": 53,
     "metadata": {},
     "output_type": "execute_result"
    }
   ],
   "source": [
    "one_numpy"
   ]
  },
  {
   "cell_type": "code",
   "execution_count": 54,
   "id": "4d05b412",
   "metadata": {},
   "outputs": [],
   "source": [
    "one_list = list(one_numpy)"
   ]
  },
  {
   "cell_type": "code",
   "execution_count": 55,
   "id": "b649d061",
   "metadata": {},
   "outputs": [],
   "source": [
    "one_series = pd.Series(one_list)"
   ]
  },
  {
   "cell_type": "code",
   "execution_count": 56,
   "id": "2f1c10c5",
   "metadata": {},
   "outputs": [],
   "source": [
    "one_list = one_list[0].tolist()"
   ]
  },
  {
   "cell_type": "code",
   "execution_count": 57,
   "id": "b7d64483",
   "metadata": {},
   "outputs": [],
   "source": [
    "predict_df = sukso_merge.iloc[(one_list)]"
   ]
  },
  {
   "cell_type": "code",
   "execution_count": 58,
   "id": "fd832898",
   "metadata": {},
   "outputs": [],
   "source": [
    "index_del = predict_df[predict_df['like'] == '영상'].index\n",
    "predict_df = predict_df.drop(index_del)"
   ]
  },
  {
   "cell_type": "code",
   "execution_count": 59,
   "id": "b631d69d",
   "metadata": {},
   "outputs": [
    {
     "data": {
      "text/plain": [
       "Index(['id', 'date', 'like', 'text', 'hashtag', 'src', 'target'], dtype='object')"
      ]
     },
     "execution_count": 59,
     "metadata": {},
     "output_type": "execute_result"
    }
   ],
   "source": [
    "predict_df.keys()"
   ]
  },
  {
   "cell_type": "code",
   "execution_count": 60,
   "id": "151d7961",
   "metadata": {
    "scrolled": true
   },
   "outputs": [],
   "source": [
    "predict_df.reset_index(drop = True, inplace = True)"
   ]
  },
  {
   "cell_type": "code",
   "execution_count": 61,
   "id": "30ee1c6a",
   "metadata": {},
   "outputs": [
    {
     "name": "stderr",
     "output_type": "stream",
     "text": [
      "C:\\Users\\morni\\Anaconda3\\lib\\site-packages\\pandas\\core\\indexing.py:1637: SettingWithCopyWarning: \n",
      "A value is trying to be set on a copy of a slice from a DataFrame\n",
      "\n",
      "See the caveats in the documentation: https://pandas.pydata.org/pandas-docs/stable/user_guide/indexing.html#returning-a-view-versus-a-copy\n",
      "  self._setitem_single_block(indexer, value, name)\n"
     ]
    }
   ],
   "source": [
    "for i in range(len(predict_df)):\n",
    "    predict_df['like'].iloc[i] = predict_df['like'].iloc[i].replace(\",\",\"\")\n",
    "    predict_df['like'].iloc[i] = int(predict_df['like'].iloc[i])"
   ]
  },
  {
   "cell_type": "code",
   "execution_count": 62,
   "id": "8d705f76",
   "metadata": {},
   "outputs": [],
   "source": [
    "predict_df = predict_df.sort_values(by = ['like'], axis = 0, ascending = False)"
   ]
  },
  {
   "cell_type": "code",
   "execution_count": 63,
   "id": "77a1fd31",
   "metadata": {},
   "outputs": [
    {
     "name": "stdout",
     "output_type": "stream",
     "text": [
      "<class 'pandas.core.frame.DataFrame'>\n",
      "Int64Index: 8 entries, 4 to 2\n",
      "Data columns (total 7 columns):\n",
      " #   Column   Non-Null Count  Dtype \n",
      "---  ------   --------------  ----- \n",
      " 0   id       8 non-null      object\n",
      " 1   date     8 non-null      object\n",
      " 2   like     8 non-null      object\n",
      " 3   text     8 non-null      object\n",
      " 4   hashtag  8 non-null      object\n",
      " 5   src      8 non-null      object\n",
      " 6   target   8 non-null      int64 \n",
      "dtypes: int64(1), object(6)\n",
      "memory usage: 512.0+ bytes\n"
     ]
    }
   ],
   "source": [
    "predict_df.info()"
   ]
  },
  {
   "cell_type": "code",
   "execution_count": 64,
   "id": "de474262",
   "metadata": {},
   "outputs": [],
   "source": [
    "predict_df.to_csv(\"가족숙소_정답목록.csv\", encoding=\"utf-8-sig\")"
   ]
  },
  {
   "cell_type": "code",
   "execution_count": 65,
   "id": "ba8896c7",
   "metadata": {},
   "outputs": [
    {
     "name": "stdout",
     "output_type": "stream",
     "text": [
      "학습시킨 데이터의 양 :  3135\n"
     ]
    }
   ],
   "source": [
    "print(\"학습시킨 데이터의 양 : \", len(hanok))"
   ]
  },
  {
   "cell_type": "code",
   "execution_count": null,
   "id": "eefd0bd0",
   "metadata": {},
   "outputs": [],
   "source": []
  }
 ],
 "metadata": {
  "kernelspec": {
   "display_name": "Python 3",
   "language": "python",
   "name": "python3"
  },
  "language_info": {
   "codemirror_mode": {
    "name": "ipython",
    "version": 3
   },
   "file_extension": ".py",
   "mimetype": "text/x-python",
   "name": "python",
   "nbconvert_exporter": "python",
   "pygments_lexer": "ipython3",
   "version": "3.8.8"
  }
 },
 "nbformat": 4,
 "nbformat_minor": 5
}
