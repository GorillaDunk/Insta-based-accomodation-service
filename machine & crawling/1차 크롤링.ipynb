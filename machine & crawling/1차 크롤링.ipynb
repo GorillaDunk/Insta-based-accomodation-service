{
 "cells": [
  {
   "cell_type": "code",
   "execution_count": 35,
   "metadata": {},
   "outputs": [],
   "source": [
    "import requests\n",
    "from bs4 import BeautifulSoup\n",
    "#import pymysql\n",
    "from selenium import webdriver as wb\n",
    "from tqdm import tqdm_notebook as tq\n",
    "from selenium.webdriver.common.keys import Keys\n",
    "import time as time\n",
    "import getpass\n",
    "import urllib.request\n",
    "import random\n",
    "\n",
    "from time import sleep\n",
    " \n",
    "import pandas as pd\n",
    "import numpy as np\n",
    "import matplotlib.pyplot as plt\n",
    "%matplotlib inline"
   ]
  },
  {
   "cell_type": "code",
   "execution_count": 36,
   "metadata": {},
   "outputs": [],
   "source": [
    "driver = wb.Chrome()\n",
    "driver.get(\"https://www.instagram.com/accounts/login/\")\n",
    "driver.maximize_window()"
   ]
  },
  {
   "cell_type": "code",
   "execution_count": 37,
   "metadata": {},
   "outputs": [
    {
     "name": "stdout",
     "output_type": "stream",
     "text": [
      "Input ID : ········\n",
      "Input PWD : ········\n",
      "Input HashTag # : #숙소추천\n"
     ]
    }
   ],
   "source": [
    "username = getpass.getpass(\"Input ID : \")# User ID\n",
    "password = getpass.getpass(\"Input PWD : \")# User PWD, 특히 getpass를 통해서 비밀번호 정보를 숨길 수도 있다. 잘 배워두자 \n",
    "hashTag = input(\"Input HashTag # : \")# Search #\n",
    " \n",
    "element_id = driver.find_element_by_name(\"username\")\n",
    "element_id.send_keys(username)\n",
    "element_password = driver.find_element_by_name(\"password\")\n",
    "element_password.send_keys(password)\n",
    " \n",
    "sleep(1.5)\n"
   ]
  },
  {
   "cell_type": "code",
   "execution_count": 38,
   "metadata": {},
   "outputs": [],
   "source": [
    "driver.find_element_by_css_selector('.sqdOP.L3NKy.y3zKF').click()"
   ]
  },
  {
   "cell_type": "code",
   "execution_count": 39,
   "metadata": {},
   "outputs": [],
   "source": [
    "driver.get('https://www.instagram.com/explore/tags/숙소추천/')"
   ]
  },
  {
   "cell_type": "code",
   "execution_count": 55,
   "metadata": {},
   "outputs": [
    {
     "ename": "ElementClickInterceptedException",
     "evalue": "Message: element click intercepted: Element <div class=\"eLAPa\">...</div> is not clickable at point (189, 445). Other element would receive the click: <div class=\"tR2pe\" style=\"padding-bottom: 75%;\"></div>\n  (Session info: chrome=91.0.4472.114)\n",
     "output_type": "error",
     "traceback": [
      "\u001b[1;31m---------------------------------------------------------------------------\u001b[0m",
      "\u001b[1;31mElementClickInterceptedException\u001b[0m          Traceback (most recent call last)",
      "\u001b[1;32m<ipython-input-55-a1525ed9bb43>\u001b[0m in \u001b[0;36m<module>\u001b[1;34m\u001b[0m\n\u001b[0;32m      9\u001b[0m \u001b[1;31m#첫 번째 게시물 클릭\u001b[0m\u001b[1;33m\u001b[0m\u001b[1;33m\u001b[0m\u001b[1;33m\u001b[0m\u001b[0m\n\u001b[0;32m     10\u001b[0m \u001b[0mfirst_post\u001b[0m \u001b[1;33m=\u001b[0m \u001b[0mdriver\u001b[0m\u001b[1;33m.\u001b[0m\u001b[0mfind_element_by_class_name\u001b[0m\u001b[1;33m(\u001b[0m\u001b[1;34m'eLAPa'\u001b[0m\u001b[1;33m)\u001b[0m\u001b[1;33m\u001b[0m\u001b[1;33m\u001b[0m\u001b[0m\n\u001b[1;32m---> 11\u001b[1;33m \u001b[0mfirst_post\u001b[0m\u001b[1;33m.\u001b[0m\u001b[0mclick\u001b[0m\u001b[1;33m(\u001b[0m\u001b[1;33m)\u001b[0m\u001b[1;33m\u001b[0m\u001b[1;33m\u001b[0m\u001b[0m\n\u001b[0m",
      "\u001b[1;32m~\\anaconda3\\lib\\site-packages\\selenium\\webdriver\\remote\\webelement.py\u001b[0m in \u001b[0;36mclick\u001b[1;34m(self)\u001b[0m\n\u001b[0;32m     78\u001b[0m     \u001b[1;32mdef\u001b[0m \u001b[0mclick\u001b[0m\u001b[1;33m(\u001b[0m\u001b[0mself\u001b[0m\u001b[1;33m)\u001b[0m\u001b[1;33m:\u001b[0m\u001b[1;33m\u001b[0m\u001b[1;33m\u001b[0m\u001b[0m\n\u001b[0;32m     79\u001b[0m         \u001b[1;34m\"\"\"Clicks the element.\"\"\"\u001b[0m\u001b[1;33m\u001b[0m\u001b[1;33m\u001b[0m\u001b[0m\n\u001b[1;32m---> 80\u001b[1;33m         \u001b[0mself\u001b[0m\u001b[1;33m.\u001b[0m\u001b[0m_execute\u001b[0m\u001b[1;33m(\u001b[0m\u001b[0mCommand\u001b[0m\u001b[1;33m.\u001b[0m\u001b[0mCLICK_ELEMENT\u001b[0m\u001b[1;33m)\u001b[0m\u001b[1;33m\u001b[0m\u001b[1;33m\u001b[0m\u001b[0m\n\u001b[0m\u001b[0;32m     81\u001b[0m \u001b[1;33m\u001b[0m\u001b[0m\n\u001b[0;32m     82\u001b[0m     \u001b[1;32mdef\u001b[0m \u001b[0msubmit\u001b[0m\u001b[1;33m(\u001b[0m\u001b[0mself\u001b[0m\u001b[1;33m)\u001b[0m\u001b[1;33m:\u001b[0m\u001b[1;33m\u001b[0m\u001b[1;33m\u001b[0m\u001b[0m\n",
      "\u001b[1;32m~\\anaconda3\\lib\\site-packages\\selenium\\webdriver\\remote\\webelement.py\u001b[0m in \u001b[0;36m_execute\u001b[1;34m(self, command, params)\u001b[0m\n\u001b[0;32m    631\u001b[0m             \u001b[0mparams\u001b[0m \u001b[1;33m=\u001b[0m \u001b[1;33m{\u001b[0m\u001b[1;33m}\u001b[0m\u001b[1;33m\u001b[0m\u001b[1;33m\u001b[0m\u001b[0m\n\u001b[0;32m    632\u001b[0m         \u001b[0mparams\u001b[0m\u001b[1;33m[\u001b[0m\u001b[1;34m'id'\u001b[0m\u001b[1;33m]\u001b[0m \u001b[1;33m=\u001b[0m \u001b[0mself\u001b[0m\u001b[1;33m.\u001b[0m\u001b[0m_id\u001b[0m\u001b[1;33m\u001b[0m\u001b[1;33m\u001b[0m\u001b[0m\n\u001b[1;32m--> 633\u001b[1;33m         \u001b[1;32mreturn\u001b[0m \u001b[0mself\u001b[0m\u001b[1;33m.\u001b[0m\u001b[0m_parent\u001b[0m\u001b[1;33m.\u001b[0m\u001b[0mexecute\u001b[0m\u001b[1;33m(\u001b[0m\u001b[0mcommand\u001b[0m\u001b[1;33m,\u001b[0m \u001b[0mparams\u001b[0m\u001b[1;33m)\u001b[0m\u001b[1;33m\u001b[0m\u001b[1;33m\u001b[0m\u001b[0m\n\u001b[0m\u001b[0;32m    634\u001b[0m \u001b[1;33m\u001b[0m\u001b[0m\n\u001b[0;32m    635\u001b[0m     \u001b[1;32mdef\u001b[0m \u001b[0mfind_element\u001b[0m\u001b[1;33m(\u001b[0m\u001b[0mself\u001b[0m\u001b[1;33m,\u001b[0m \u001b[0mby\u001b[0m\u001b[1;33m=\u001b[0m\u001b[0mBy\u001b[0m\u001b[1;33m.\u001b[0m\u001b[0mID\u001b[0m\u001b[1;33m,\u001b[0m \u001b[0mvalue\u001b[0m\u001b[1;33m=\u001b[0m\u001b[1;32mNone\u001b[0m\u001b[1;33m)\u001b[0m\u001b[1;33m:\u001b[0m\u001b[1;33m\u001b[0m\u001b[1;33m\u001b[0m\u001b[0m\n",
      "\u001b[1;32m~\\anaconda3\\lib\\site-packages\\selenium\\webdriver\\remote\\webdriver.py\u001b[0m in \u001b[0;36mexecute\u001b[1;34m(self, driver_command, params)\u001b[0m\n\u001b[0;32m    319\u001b[0m         \u001b[0mresponse\u001b[0m \u001b[1;33m=\u001b[0m \u001b[0mself\u001b[0m\u001b[1;33m.\u001b[0m\u001b[0mcommand_executor\u001b[0m\u001b[1;33m.\u001b[0m\u001b[0mexecute\u001b[0m\u001b[1;33m(\u001b[0m\u001b[0mdriver_command\u001b[0m\u001b[1;33m,\u001b[0m \u001b[0mparams\u001b[0m\u001b[1;33m)\u001b[0m\u001b[1;33m\u001b[0m\u001b[1;33m\u001b[0m\u001b[0m\n\u001b[0;32m    320\u001b[0m         \u001b[1;32mif\u001b[0m \u001b[0mresponse\u001b[0m\u001b[1;33m:\u001b[0m\u001b[1;33m\u001b[0m\u001b[1;33m\u001b[0m\u001b[0m\n\u001b[1;32m--> 321\u001b[1;33m             \u001b[0mself\u001b[0m\u001b[1;33m.\u001b[0m\u001b[0merror_handler\u001b[0m\u001b[1;33m.\u001b[0m\u001b[0mcheck_response\u001b[0m\u001b[1;33m(\u001b[0m\u001b[0mresponse\u001b[0m\u001b[1;33m)\u001b[0m\u001b[1;33m\u001b[0m\u001b[1;33m\u001b[0m\u001b[0m\n\u001b[0m\u001b[0;32m    322\u001b[0m             response['value'] = self._unwrap_value(\n\u001b[0;32m    323\u001b[0m                 response.get('value', None))\n",
      "\u001b[1;32m~\\anaconda3\\lib\\site-packages\\selenium\\webdriver\\remote\\errorhandler.py\u001b[0m in \u001b[0;36mcheck_response\u001b[1;34m(self, response)\u001b[0m\n\u001b[0;32m    240\u001b[0m                 \u001b[0malert_text\u001b[0m \u001b[1;33m=\u001b[0m \u001b[0mvalue\u001b[0m\u001b[1;33m[\u001b[0m\u001b[1;34m'alert'\u001b[0m\u001b[1;33m]\u001b[0m\u001b[1;33m.\u001b[0m\u001b[0mget\u001b[0m\u001b[1;33m(\u001b[0m\u001b[1;34m'text'\u001b[0m\u001b[1;33m)\u001b[0m\u001b[1;33m\u001b[0m\u001b[1;33m\u001b[0m\u001b[0m\n\u001b[0;32m    241\u001b[0m             \u001b[1;32mraise\u001b[0m \u001b[0mexception_class\u001b[0m\u001b[1;33m(\u001b[0m\u001b[0mmessage\u001b[0m\u001b[1;33m,\u001b[0m \u001b[0mscreen\u001b[0m\u001b[1;33m,\u001b[0m \u001b[0mstacktrace\u001b[0m\u001b[1;33m,\u001b[0m \u001b[0malert_text\u001b[0m\u001b[1;33m)\u001b[0m\u001b[1;33m\u001b[0m\u001b[1;33m\u001b[0m\u001b[0m\n\u001b[1;32m--> 242\u001b[1;33m         \u001b[1;32mraise\u001b[0m \u001b[0mexception_class\u001b[0m\u001b[1;33m(\u001b[0m\u001b[0mmessage\u001b[0m\u001b[1;33m,\u001b[0m \u001b[0mscreen\u001b[0m\u001b[1;33m,\u001b[0m \u001b[0mstacktrace\u001b[0m\u001b[1;33m)\u001b[0m\u001b[1;33m\u001b[0m\u001b[1;33m\u001b[0m\u001b[0m\n\u001b[0m\u001b[0;32m    243\u001b[0m \u001b[1;33m\u001b[0m\u001b[0m\n\u001b[0;32m    244\u001b[0m     \u001b[1;32mdef\u001b[0m \u001b[0m_value_or_default\u001b[0m\u001b[1;33m(\u001b[0m\u001b[0mself\u001b[0m\u001b[1;33m,\u001b[0m \u001b[0mobj\u001b[0m\u001b[1;33m,\u001b[0m \u001b[0mkey\u001b[0m\u001b[1;33m,\u001b[0m \u001b[0mdefault\u001b[0m\u001b[1;33m)\u001b[0m\u001b[1;33m:\u001b[0m\u001b[1;33m\u001b[0m\u001b[1;33m\u001b[0m\u001b[0m\n",
      "\u001b[1;31mElementClickInterceptedException\u001b[0m: Message: element click intercepted: Element <div class=\"eLAPa\">...</div> is not clickable at point (189, 445). Other element would receive the click: <div class=\"tR2pe\" style=\"padding-bottom: 75%;\"></div>\n  (Session info: chrome=91.0.4472.114)\n"
     ]
    }
   ],
   "source": [
    "##데이터를 저장할 Dictionary\n",
    "insta_dict = {'id':[],\n",
    "              'date': [],\n",
    "              'like': [],\n",
    "              'text': [],\n",
    "              'hashtag':[]}\n",
    " \n",
    "\n",
    "#첫 번째 게시물 클릭 \n",
    "first_post = driver.find_element_by_class_name('eLAPa')\n",
    "first_post.click()"
   ]
  },
  {
   "cell_type": "code",
   "execution_count": 56,
   "metadata": {},
   "outputs": [],
   "source": [
    "imgsrclist = []"
   ]
  },
  {
   "cell_type": "code",
   "execution_count": 57,
   "metadata": {},
   "outputs": [
    {
     "name": "stdout",
     "output_type": "stream",
     "text": [
      "0번째 수집 중\t0.006967306137084961\n"
     ]
    }
   ],
   "source": [
    "seq = 0\n",
    "start = time.time()\n",
    " \n",
    "while True:\n",
    "    try:\n",
    "        if driver.find_element_by_css_selector('a._65Bje.coreSpriteRightPaginationArrow'):\n",
    "            if seq % 50 == 0:\n",
    "                print('{}번째 수집 중'.format(seq), time.time() - start, sep = '\\t')\n",
    "            try:\n",
    "                info_id = driver.find_element_by_css_selector('h2._6lAjh').text\n",
    "                insta_dict['id'].append(info_id)\n",
    "            except:\n",
    "                info_id = driver.find_element_by_css_selector('div.C4VMK').text.split()[0]\n",
    "                insta_dict['id'].append(info_id)\n",
    " ## 시간정보 수집 \n",
    "            time_raw = driver.find_element_by_css_selector('time.FH9sR.Nzb55')\n",
    "            time_info = pd.to_datetime(time_raw.get_attribute('datetime')).normalize()\n",
    "            insta_dict['date'].append(time_info)\n",
    " ## like 정보 수집\n",
    "            try:\n",
    "                driver.find_element_by_css_selector('button.sqdOP.yWX7d._8A5w5')\n",
    "                like = driver.find_element_by_css_selector('button.sqdOP.yWX7d._8A5w5').text\n",
    "                insta_dict['like'].append(like)\n",
    "            except:\n",
    "                insta_dict['like'].append('영상')\n",
    " ##text 정보수집\n",
    "            raw_info = driver.find_element_by_css_selector('div.C4VMK').text.split()\n",
    "            text = []\n",
    "            for i in range(len(raw_info)):\n",
    "                ## 첫번째 text는 아이디니까 제외 \n",
    "                if i == 0:\n",
    "                    pass\n",
    "                ## 두번째부터 시작 \n",
    "                else:\n",
    "                    if '#' in raw_info[i]:\n",
    "                        pass\n",
    "                    else:\n",
    "                        text.append(raw_info[i])\n",
    "            clean_text = ' '.join(text)\n",
    "            insta_dict['text'].append(clean_text)\n",
    " ##hashtag 수집\n",
    "            raw_tags = driver.find_elements_by_css_selector('a.xil3i')\n",
    "            hash_tag = []\n",
    "            for i in range(len(raw_tags)):\n",
    "                if raw_tags[i].text == '':\n",
    "                    pass\n",
    "                else:\n",
    "                    hash_tag.append(raw_tags[i].text)\n",
    "            insta_dict['hashtag'].append(hash_tag)\n",
    "            seq += 1\n",
    "            if seq == 10:\n",
    "                break\n",
    "            driver.find_element_by_css_selector('a._65Bje.coreSpriteRightPaginationArrow').click()\n",
    "            time.sleep(3)\n",
    "            \n",
    "            try:\n",
    "                image_src_element = driver.find_element_by_css_selector(\"div._97aPb img\")\n",
    "                image_src = image_src_element.get_attribute(\"src\")\n",
    "                imgsrclist.append(image_src)\n",
    "        \n",
    "            except:\n",
    "                continue\n",
    "            \n",
    "        else:\n",
    "            break\n",
    "            \n",
    "    except:\n",
    "        driver.find_element_by_css_selector('a._65Bje.coreSpriteRightPaginationArrow').click()\n",
    "        time.sleep(5)\n",
    "        "
   ]
  },
  {
   "cell_type": "code",
   "execution_count": 42,
   "metadata": {},
   "outputs": [],
   "source": [
    "insta = pd.DataFrame(insta_dict)"
   ]
  },
  {
   "cell_type": "code",
   "execution_count": 58,
   "metadata": {},
   "outputs": [
    {
     "data": {
      "text/plain": [
       "[None,\n",
       " None,\n",
       " 'https://scontent-ssn1-1.cdninstagram.com/v/t51.2885-15/e35/s1080x1080/201525992_236181608269362_811629409422089958_n.jpg?tp=1&_nc_ht=scontent-ssn1-1.cdninstagram.com&_nc_cat=106&_nc_ohc=rGNjJPSBm9IAX9qDciP&edm=AP_V10EBAAAA&ccb=7-4&oh=0bf9a2e24514eec13223626989c68619&oe=60DC074C&_nc_sid=4f375e',\n",
       " 'https://scontent-ssn1-1.cdninstagram.com/v/t51.2885-15/e35/199832586_311461847321120_8792652658779325225_n.jpg?tp=1&_nc_ht=scontent-ssn1-1.cdninstagram.com&_nc_cat=108&_nc_ohc=HWfxer6cX3gAX9G6k5M&edm=AP_V10EBAAAA&ccb=7-4&oh=14a0851cbb2b18cd6c001d59b3c0964c&oe=60DB4BBD&_nc_sid=4f375e',\n",
       " 'https://scontent-ssn1-1.cdninstagram.com/v/t51.2885-15/e35/p1080x1080/199886618_1538472279829604_2157445929466946393_n.jpg?tp=1&_nc_ht=scontent-ssn1-1.cdninstagram.com&_nc_cat=108&_nc_ohc=EVQb0Z-0kvwAX_KBZoq&edm=AP_V10EBAAAA&ccb=7-4&oh=226a988d7c764daeec559a6e7b73b077&oe=60DC9FF7&_nc_sid=4f375e']"
      ]
     },
     "execution_count": 58,
     "metadata": {},
     "output_type": "execute_result"
    }
   ],
   "source": [
    "imgsrclist"
   ]
  },
  {
   "cell_type": "code",
   "execution_count": 43,
   "metadata": {},
   "outputs": [
    {
     "data": {
      "text/html": [
       "<div>\n",
       "<style scoped>\n",
       "    .dataframe tbody tr th:only-of-type {\n",
       "        vertical-align: middle;\n",
       "    }\n",
       "\n",
       "    .dataframe tbody tr th {\n",
       "        vertical-align: top;\n",
       "    }\n",
       "\n",
       "    .dataframe thead th {\n",
       "        text-align: right;\n",
       "    }\n",
       "</style>\n",
       "<table border=\"1\" class=\"dataframe\">\n",
       "  <thead>\n",
       "    <tr style=\"text-align: right;\">\n",
       "      <th></th>\n",
       "      <th>id</th>\n",
       "      <th>date</th>\n",
       "      <th>like</th>\n",
       "      <th>text</th>\n",
       "      <th>hashtag</th>\n",
       "    </tr>\n",
       "  </thead>\n",
       "  <tbody>\n",
       "    <tr>\n",
       "      <th>0</th>\n",
       "      <td>travelmenu1</td>\n",
       "      <td>2021-05-29 00:00:00+00:00</td>\n",
       "      <td>영상</td>\n",
       "      <td>[ 깊은 산속 통나무집에서 즐기는 힐링타임! ] 자연의 싱그러움과 별들이 가득찬 밤...</td>\n",
       "      <td>[#삼척, #향초목원, #여행다녀왔습니다, #여행다녀왔습니다, #여행다녀왔습니다_국...</td>\n",
       "    </tr>\n",
       "    <tr>\n",
       "      <th>1</th>\n",
       "      <td>datecourse123</td>\n",
       "      <td>2021-06-22 00:00:00+00:00</td>\n",
       "      <td>영상</td>\n",
       "      <td>[해외같다고 난리난 쏠비치 진도-낮🌞버전] 국내맞아? 해외같은 여행지 하나 추가요💕...</td>\n",
       "      <td>[#쏠비치진도, #진도호텔, #쏠비치진도호텔앤리조트, #진도여행, #전남여행, #호...</td>\n",
       "    </tr>\n",
       "    <tr>\n",
       "      <th>2</th>\n",
       "      <td>busansomang</td>\n",
       "      <td>2021-06-21 00:00:00+00:00</td>\n",
       "      <td>영상</td>\n",
       "      <td>감성숙소 모음리스트✈️ 갬성, 힐링 모든 면에서 대박인 제쥬도 존예 숙소 다 모아와...</td>\n",
       "      <td>[#제주, #제주, #제주도, #숙소, #제주숙소, #숙소추천, #제주숙소추천, #...</td>\n",
       "    </tr>\n",
       "    <tr>\n",
       "      <th>3</th>\n",
       "      <td>1amny</td>\n",
       "      <td>2021-06-06 00:00:00+00:00</td>\n",
       "      <td>영상</td>\n",
       "      <td>해발 400m에 위치한 프라이빗 통나무집🪵🌳 안녕 여러분~! 이 곳은 강원도 삼척 ...</td>\n",
       "      <td>[]</td>\n",
       "    </tr>\n",
       "    <tr>\n",
       "      <th>4</th>\n",
       "      <td>seorimyeonga</td>\n",
       "      <td>2021-06-01 00:00:00+00:00</td>\n",
       "      <td>영상</td>\n",
       "      <td>- 좋은 기운 가득💚🌳🍷 3주</td>\n",
       "      <td>[#서림연가, #서림연가m1, #푸르름, #피크닉, #작은마당, #smallbutg...</td>\n",
       "    </tr>\n",
       "    <tr>\n",
       "      <th>...</th>\n",
       "      <td>...</td>\n",
       "      <td>...</td>\n",
       "      <td>...</td>\n",
       "      <td>...</td>\n",
       "      <td>...</td>\n",
       "    </tr>\n",
       "    <tr>\n",
       "      <th>995</th>\n",
       "      <td>blue__the_ocean</td>\n",
       "      <td>2021-06-14 00:00:00+00:00</td>\n",
       "      <td>영상</td>\n",
       "      <td>바다뷰 바다뷰맛집 송정해수욕장 투썸플레이스 옆 해변 30초 거리 우사인볼트 3초컷 ...</td>\n",
       "      <td>[#송정블루디오션, #부산송정, #부산송정해수욕장, #부산숙소, #송정숙소, #송정...</td>\n",
       "    </tr>\n",
       "    <tr>\n",
       "      <th>996</th>\n",
       "      <td>blue__the_ocean</td>\n",
       "      <td>2021-06-14 00:00:00+00:00</td>\n",
       "      <td>영상</td>\n",
       "      <td>바다뷰 바다뷰맛집 송정해수욕장 투썸플레이스 옆 해변 30초 거리 우사인볼트 3초컷 ...</td>\n",
       "      <td>[#송정블루디오션, #부산송정, #부산송정해수욕장, #부산숙소, #송정숙소, #송정...</td>\n",
       "    </tr>\n",
       "    <tr>\n",
       "      <th>997</th>\n",
       "      <td>blue__the_ocean</td>\n",
       "      <td>2021-06-14 00:00:00+00:00</td>\n",
       "      <td>영상</td>\n",
       "      <td>바다뷰 바다뷰맛집 송정해수욕장 투썸플레이스 옆 해변 30초 거리 우사인볼트 3초컷 ...</td>\n",
       "      <td>[#송정블루디오션, #부산송정, #부산송정해수욕장, #부산숙소, #송정숙소, #송정...</td>\n",
       "    </tr>\n",
       "    <tr>\n",
       "      <th>998</th>\n",
       "      <td>blue__the_ocean</td>\n",
       "      <td>2021-06-14 00:00:00+00:00</td>\n",
       "      <td>영상</td>\n",
       "      <td>바다뷰 바다뷰맛집 송정해수욕장 투썸플레이스 옆 해변 30초 거리 우사인볼트 3초컷 ...</td>\n",
       "      <td>[#송정블루디오션, #부산송정, #부산송정해수욕장, #부산숙소, #송정숙소, #송정...</td>\n",
       "    </tr>\n",
       "    <tr>\n",
       "      <th>999</th>\n",
       "      <td>blue__the_ocean</td>\n",
       "      <td>2021-06-14 00:00:00+00:00</td>\n",
       "      <td>영상</td>\n",
       "      <td>바다뷰 바다뷰맛집 송정해수욕장 투썸플레이스 옆 해변 30초 거리 우사인볼트 3초컷 ...</td>\n",
       "      <td>[#송정블루디오션, #부산송정, #부산송정해수욕장, #부산숙소, #송정숙소, #송정...</td>\n",
       "    </tr>\n",
       "  </tbody>\n",
       "</table>\n",
       "<p>1000 rows × 5 columns</p>\n",
       "</div>"
      ],
      "text/plain": [
       "                  id                      date like  \\\n",
       "0        travelmenu1 2021-05-29 00:00:00+00:00   영상   \n",
       "1      datecourse123 2021-06-22 00:00:00+00:00   영상   \n",
       "2        busansomang 2021-06-21 00:00:00+00:00   영상   \n",
       "3              1amny 2021-06-06 00:00:00+00:00   영상   \n",
       "4       seorimyeonga 2021-06-01 00:00:00+00:00   영상   \n",
       "..               ...                       ...  ...   \n",
       "995  blue__the_ocean 2021-06-14 00:00:00+00:00   영상   \n",
       "996  blue__the_ocean 2021-06-14 00:00:00+00:00   영상   \n",
       "997  blue__the_ocean 2021-06-14 00:00:00+00:00   영상   \n",
       "998  blue__the_ocean 2021-06-14 00:00:00+00:00   영상   \n",
       "999  blue__the_ocean 2021-06-14 00:00:00+00:00   영상   \n",
       "\n",
       "                                                  text  \\\n",
       "0    [ 깊은 산속 통나무집에서 즐기는 힐링타임! ] 자연의 싱그러움과 별들이 가득찬 밤...   \n",
       "1    [해외같다고 난리난 쏠비치 진도-낮🌞버전] 국내맞아? 해외같은 여행지 하나 추가요💕...   \n",
       "2    감성숙소 모음리스트✈️ 갬성, 힐링 모든 면에서 대박인 제쥬도 존예 숙소 다 모아와...   \n",
       "3    해발 400m에 위치한 프라이빗 통나무집🪵🌳 안녕 여러분~! 이 곳은 강원도 삼척 ...   \n",
       "4                                     - 좋은 기운 가득💚🌳🍷 3주   \n",
       "..                                                 ...   \n",
       "995  바다뷰 바다뷰맛집 송정해수욕장 투썸플레이스 옆 해변 30초 거리 우사인볼트 3초컷 ...   \n",
       "996  바다뷰 바다뷰맛집 송정해수욕장 투썸플레이스 옆 해변 30초 거리 우사인볼트 3초컷 ...   \n",
       "997  바다뷰 바다뷰맛집 송정해수욕장 투썸플레이스 옆 해변 30초 거리 우사인볼트 3초컷 ...   \n",
       "998  바다뷰 바다뷰맛집 송정해수욕장 투썸플레이스 옆 해변 30초 거리 우사인볼트 3초컷 ...   \n",
       "999  바다뷰 바다뷰맛집 송정해수욕장 투썸플레이스 옆 해변 30초 거리 우사인볼트 3초컷 ...   \n",
       "\n",
       "                                               hashtag  \n",
       "0    [#삼척, #향초목원, #여행다녀왔습니다, #여행다녀왔습니다, #여행다녀왔습니다_국...  \n",
       "1    [#쏠비치진도, #진도호텔, #쏠비치진도호텔앤리조트, #진도여행, #전남여행, #호...  \n",
       "2    [#제주, #제주, #제주도, #숙소, #제주숙소, #숙소추천, #제주숙소추천, #...  \n",
       "3                                                   []  \n",
       "4    [#서림연가, #서림연가m1, #푸르름, #피크닉, #작은마당, #smallbutg...  \n",
       "..                                                 ...  \n",
       "995  [#송정블루디오션, #부산송정, #부산송정해수욕장, #부산숙소, #송정숙소, #송정...  \n",
       "996  [#송정블루디오션, #부산송정, #부산송정해수욕장, #부산숙소, #송정숙소, #송정...  \n",
       "997  [#송정블루디오션, #부산송정, #부산송정해수욕장, #부산숙소, #송정숙소, #송정...  \n",
       "998  [#송정블루디오션, #부산송정, #부산송정해수욕장, #부산숙소, #송정숙소, #송정...  \n",
       "999  [#송정블루디오션, #부산송정, #부산송정해수욕장, #부산숙소, #송정숙소, #송정...  \n",
       "\n",
       "[1000 rows x 5 columns]"
      ]
     },
     "execution_count": 43,
     "metadata": {},
     "output_type": "execute_result"
    }
   ],
   "source": [
    "insta"
   ]
  },
  {
   "cell_type": "code",
   "execution_count": null,
   "metadata": {},
   "outputs": [],
   "source": [
    "insta.to_excel('insta.xlsx', index=False)"
   ]
  },
  {
   "cell_type": "code",
   "execution_count": 45,
   "metadata": {},
   "outputs": [
    {
     "ename": "PermissionError",
     "evalue": "[Errno 13] Permission denied: 'C:/Users/SM2136/insta'",
     "output_type": "error",
     "traceback": [
      "\u001b[1;31m---------------------------------------------------------------------------\u001b[0m",
      "\u001b[1;31mPermissionError\u001b[0m                           Traceback (most recent call last)",
      "\u001b[1;32m<ipython-input-45-2902079b553e>\u001b[0m in \u001b[0;36m<module>\u001b[1;34m\u001b[0m\n\u001b[1;32m----> 1\u001b[1;33m \u001b[0minsta\u001b[0m\u001b[1;33m.\u001b[0m\u001b[0mto_csv\u001b[0m\u001b[1;33m(\u001b[0m\u001b[1;34m'C:/Users/SM2136/insta'\u001b[0m\u001b[1;33m,\u001b[0m \u001b[0mindex\u001b[0m \u001b[1;33m=\u001b[0m \u001b[1;32mNone\u001b[0m\u001b[1;33m)\u001b[0m\u001b[1;33m\u001b[0m\u001b[1;33m\u001b[0m\u001b[0m\n\u001b[0m",
      "\u001b[1;32m~\\anaconda3\\lib\\site-packages\\pandas\\core\\generic.py\u001b[0m in \u001b[0;36mto_csv\u001b[1;34m(self, path_or_buf, sep, na_rep, float_format, columns, header, index, index_label, mode, encoding, compression, quoting, quotechar, line_terminator, chunksize, date_format, doublequote, escapechar, decimal, errors)\u001b[0m\n\u001b[0;32m   3168\u001b[0m             \u001b[0mdecimal\u001b[0m\u001b[1;33m=\u001b[0m\u001b[0mdecimal\u001b[0m\u001b[1;33m,\u001b[0m\u001b[1;33m\u001b[0m\u001b[1;33m\u001b[0m\u001b[0m\n\u001b[0;32m   3169\u001b[0m         )\n\u001b[1;32m-> 3170\u001b[1;33m         \u001b[0mformatter\u001b[0m\u001b[1;33m.\u001b[0m\u001b[0msave\u001b[0m\u001b[1;33m(\u001b[0m\u001b[1;33m)\u001b[0m\u001b[1;33m\u001b[0m\u001b[1;33m\u001b[0m\u001b[0m\n\u001b[0m\u001b[0;32m   3171\u001b[0m \u001b[1;33m\u001b[0m\u001b[0m\n\u001b[0;32m   3172\u001b[0m         \u001b[1;32mif\u001b[0m \u001b[0mpath_or_buf\u001b[0m \u001b[1;32mis\u001b[0m \u001b[1;32mNone\u001b[0m\u001b[1;33m:\u001b[0m\u001b[1;33m\u001b[0m\u001b[1;33m\u001b[0m\u001b[0m\n",
      "\u001b[1;32m~\\anaconda3\\lib\\site-packages\\pandas\\io\\formats\\csvs.py\u001b[0m in \u001b[0;36msave\u001b[1;34m(self)\u001b[0m\n\u001b[0;32m    183\u001b[0m             \u001b[0mclose\u001b[0m \u001b[1;33m=\u001b[0m \u001b[1;32mFalse\u001b[0m\u001b[1;33m\u001b[0m\u001b[1;33m\u001b[0m\u001b[0m\n\u001b[0;32m    184\u001b[0m         \u001b[1;32melse\u001b[0m\u001b[1;33m:\u001b[0m\u001b[1;33m\u001b[0m\u001b[1;33m\u001b[0m\u001b[0m\n\u001b[1;32m--> 185\u001b[1;33m             f, handles = get_handle(\n\u001b[0m\u001b[0;32m    186\u001b[0m                 \u001b[0mself\u001b[0m\u001b[1;33m.\u001b[0m\u001b[0mpath_or_buf\u001b[0m\u001b[1;33m,\u001b[0m\u001b[1;33m\u001b[0m\u001b[1;33m\u001b[0m\u001b[0m\n\u001b[0;32m    187\u001b[0m                 \u001b[0mself\u001b[0m\u001b[1;33m.\u001b[0m\u001b[0mmode\u001b[0m\u001b[1;33m,\u001b[0m\u001b[1;33m\u001b[0m\u001b[1;33m\u001b[0m\u001b[0m\n",
      "\u001b[1;32m~\\anaconda3\\lib\\site-packages\\pandas\\io\\common.py\u001b[0m in \u001b[0;36mget_handle\u001b[1;34m(path_or_buf, mode, encoding, compression, memory_map, is_text, errors)\u001b[0m\n\u001b[0;32m    491\u001b[0m         \u001b[1;32mif\u001b[0m \u001b[0mencoding\u001b[0m\u001b[1;33m:\u001b[0m\u001b[1;33m\u001b[0m\u001b[1;33m\u001b[0m\u001b[0m\n\u001b[0;32m    492\u001b[0m             \u001b[1;31m# Encoding\u001b[0m\u001b[1;33m\u001b[0m\u001b[1;33m\u001b[0m\u001b[1;33m\u001b[0m\u001b[0m\n\u001b[1;32m--> 493\u001b[1;33m             \u001b[0mf\u001b[0m \u001b[1;33m=\u001b[0m \u001b[0mopen\u001b[0m\u001b[1;33m(\u001b[0m\u001b[0mpath_or_buf\u001b[0m\u001b[1;33m,\u001b[0m \u001b[0mmode\u001b[0m\u001b[1;33m,\u001b[0m \u001b[0mencoding\u001b[0m\u001b[1;33m=\u001b[0m\u001b[0mencoding\u001b[0m\u001b[1;33m,\u001b[0m \u001b[0merrors\u001b[0m\u001b[1;33m=\u001b[0m\u001b[0merrors\u001b[0m\u001b[1;33m,\u001b[0m \u001b[0mnewline\u001b[0m\u001b[1;33m=\u001b[0m\u001b[1;34m\"\"\u001b[0m\u001b[1;33m)\u001b[0m\u001b[1;33m\u001b[0m\u001b[1;33m\u001b[0m\u001b[0m\n\u001b[0m\u001b[0;32m    494\u001b[0m         \u001b[1;32melif\u001b[0m \u001b[0mis_text\u001b[0m\u001b[1;33m:\u001b[0m\u001b[1;33m\u001b[0m\u001b[1;33m\u001b[0m\u001b[0m\n\u001b[0;32m    495\u001b[0m             \u001b[1;31m# No explicit encoding\u001b[0m\u001b[1;33m\u001b[0m\u001b[1;33m\u001b[0m\u001b[1;33m\u001b[0m\u001b[0m\n",
      "\u001b[1;31mPermissionError\u001b[0m: [Errno 13] Permission denied: 'C:/Users/SM2136/insta'"
     ]
    }
   ],
   "source": [
    "insta.to_csv('C:/Users/SM2136/insta', index = None)"
   ]
  },
  {
   "cell_type": "code",
   "execution_count": 51,
   "metadata": {},
   "outputs": [],
   "source": [
    "insta.to_csv(\"./sample.csv\", index=False, encoding=\"utf-8-sig\")"
   ]
  },
  {
   "cell_type": "code",
   "execution_count": null,
   "metadata": {},
   "outputs": [],
   "source": []
  }
 ],
 "metadata": {
  "kernelspec": {
   "display_name": "Python 3",
   "language": "python",
   "name": "python3"
  },
  "language_info": {
   "codemirror_mode": {
    "name": "ipython",
    "version": 3
   },
   "file_extension": ".py",
   "mimetype": "text/x-python",
   "name": "python",
   "nbconvert_exporter": "python",
   "pygments_lexer": "ipython3",
   "version": "3.8.5"
  }
 },
 "nbformat": 4,
 "nbformat_minor": 4
}
